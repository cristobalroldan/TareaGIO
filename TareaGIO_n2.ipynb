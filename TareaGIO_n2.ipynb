{
  "nbformat": 4,
  "nbformat_minor": 0,
  "metadata": {
    "colab": {
      "name": "TareaGIO-n2.ipynb",
      "provenance": [],
      "collapsed_sections": [],
      "include_colab_link": true
    },
    "kernelspec": {
      "name": "python3",
      "display_name": "Python 3"
    },
    "language_info": {
      "name": "python"
    },
    "accelerator": "GPU"
  },
  "cells": [
    {
      "cell_type": "markdown",
      "metadata": {
        "id": "view-in-github",
        "colab_type": "text"
      },
      "source": [
        "<a href=\"https://colab.research.google.com/github/cristobalroldan/TareaGIO/blob/main/TareaGIO_n2.ipynb\" target=\"_parent\"><img src=\"https://colab.research.google.com/assets/colab-badge.svg\" alt=\"Open In Colab\"/></a>"
      ]
    },
    {
      "cell_type": "code",
      "metadata": {
        "id": "0wg329tGj5TT",
        "colab": {
          "base_uri": "https://localhost:8080/"
        },
        "outputId": "97dd7982-8961-4661-bcd7-82381c15d74f"
      },
      "source": [
        "import numpy as np \n",
        "import math\n",
        "\n",
        "m = 100\n",
        "n = 2\n",
        "a = np.random.uniform(-10,10, size=(m,n))\n",
        "np.around(a,2,a)\n",
        "b = np.random.uniform(-10,10, m)\n",
        "np.around(b,2,b)"
      ],
      "execution_count": 174,
      "outputs": [
        {
          "output_type": "execute_result",
          "data": {
            "text/plain": [
              "array([ 2.43,  0.99, -9.94, -0.2 ,  6.88,  2.84,  6.97, -6.96,  0.04,\n",
              "       -1.74, -0.77, -1.92,  6.51, -5.5 , -8.35, -4.97, -0.57,  3.85,\n",
              "        7.83, -3.12,  3.49, -6.74, -0.84,  5.75, -2.45,  1.16,  1.62,\n",
              "        3.44, -1.8 , -7.24,  4.48,  7.69,  2.18,  3.61,  8.73, -8.24,\n",
              "       -0.07, -0.07, -0.13, -1.96, -0.7 ,  8.09, -2.72, -4.41,  9.56,\n",
              "        4.98, -5.41, -3.01,  7.4 , -4.52, -9.08, -6.98, -5.91, -9.21,\n",
              "        3.47, -3.18, -4.93, 10.  ,  0.01,  1.7 , -1.57,  4.93,  9.85,\n",
              "        6.41,  4.18, -6.88,  5.41, -7.1 ,  7.56,  4.35,  2.89, -6.52,\n",
              "       -5.9 , -0.53, -0.38,  6.25, -2.95,  5.7 , -8.71, -3.52, -6.31,\n",
              "       -2.22, -1.83,  9.8 , -0.23, -3.02,  4.28,  0.33, -0.17,  6.  ,\n",
              "       -4.49,  1.39, -4.65, -2.73,  1.92,  3.18, -0.59,  2.17,  7.83,\n",
              "       -2.96])"
            ]
          },
          "metadata": {},
          "execution_count": 174
        }
      ]
    },
    {
      "cell_type": "code",
      "metadata": {
        "id": "FKtv6G2Dj-41",
        "colab": {
          "base_uri": "https://localhost:8080/"
        },
        "outputId": "1e22ab14-cb73-470c-cc97-6d58db9b8905"
      },
      "source": [
        "#x = np.random.randint(1,20, n)\n",
        "x=[1,1] # x fijo\n",
        "print(x)"
      ],
      "execution_count": 175,
      "outputs": [
        {
          "output_type": "stream",
          "name": "stdout",
          "text": [
            "[1, 1]\n"
          ]
        }
      ]
    },
    {
      "cell_type": "code",
      "metadata": {
        "id": "hDtjX52jkAap",
        "colab": {
          "base_uri": "https://localhost:8080/"
        },
        "outputId": "690a9139-31fa-49c0-bfc6-5a4cbd02d564"
      },
      "source": [
        "def f(x): \n",
        "    i = 1\n",
        "    totalsum = np.float128(0.0)\n",
        "    totalexp = np.float128(0.0)\n",
        "    aux = np.float128(0.0)\n",
        "    aux2 = np.float128(0.0)\n",
        "    while i <= m:\n",
        "        totalexp = 0\n",
        "        j = 1\n",
        "        while j <= n:\n",
        "            aux = np.float128(((a[i-1][j-1])*x[j-1]) + b[i-1])\n",
        "            totalexp = np.float128(totalexp) + np.float128(aux)\n",
        "            j = j + 1\n",
        "        aux2 = np.float128(np.exp(np.float128(totalexp)))\n",
        "        #print(aux)\n",
        "        totalsum = np.float128(totalsum + aux2)\n",
        "        #print(totalsum)\n",
        "        i = i + 1\n",
        "    return np.log(np.float64(totalsum)) # retorna float 64 bits\n",
        "f(x)\n"
      ],
      "execution_count": 176,
      "outputs": [
        {
          "output_type": "execute_result",
          "data": {
            "text/plain": [
              "29.206584857554553"
            ]
          },
          "metadata": {},
          "execution_count": 176
        }
      ]
    },
    {
      "cell_type": "code",
      "metadata": {
        "id": "ghskbnenkDrH",
        "colab": {
          "base_uri": "https://localhost:8080/"
        },
        "outputId": "f1bb0852-cc4a-4b12-dfdd-1b652d318063"
      },
      "source": [
        "def fsinLog(x): \n",
        "    i = 1\n",
        "    totalsum = np.float128(0.0)\n",
        "    totalexp = np.float128(0.0)\n",
        "    aux = np.float128(0.0)\n",
        "    aux2 = np.float128(0.0)\n",
        "    while i <= m:\n",
        "        totalexp = 0\n",
        "        j = 1\n",
        "        while j <= n:\n",
        "            aux = np.float128(((a[i-1][j-1])*x[j-1]) + b[i-1])\n",
        "            totalexp = np.float128(totalexp + aux)\n",
        "            j = j + 1\n",
        "        aux2 = np.exp(np.float128(totalexp))\n",
        "        #print(aux)\n",
        "        totalsum = np.float128(totalsum + aux2)\n",
        "        #print(totalsum)\n",
        "        i = i + 1\n",
        "    return np.float128(totalsum)\n",
        "fsinLog(x)"
      ],
      "execution_count": 177,
      "outputs": [
        {
          "output_type": "execute_result",
          "data": {
            "text/plain": [
              "4833465676005.156962"
            ]
          },
          "metadata": {},
          "execution_count": 177
        }
      ]
    },
    {
      "cell_type": "code",
      "metadata": {
        "id": "CoV4lei2kGJa",
        "colab": {
          "base_uri": "https://localhost:8080/"
        },
        "outputId": "46b105b3-d2fa-4fc6-d13e-04f6a8faa8cf"
      },
      "source": [
        "def fdx(x):\n",
        "    # print(x)\n",
        "    i = 1\n",
        "    totalsum = np.float128(0.0)\n",
        "    totalexp = np.float128(0.0)\n",
        "    aux = np.float128(0.0)\n",
        "    aux2 = np.float128(0.0)\n",
        "    while i <= m:\n",
        "        totalexp = 0\n",
        "        j =1\n",
        "        while(j <= n):\n",
        "          aux = np.float128(a[i-1][j-1]*x[j-1] + b[i-1])\n",
        "          totalexp = np.float128(totalexp) + np.float128(aux)\n",
        "          j = j+1\n",
        "        aux2 = np.float128(np.exp(np.float128(totalexp))*a.item(i-1,0))\n",
        "        #print(aux2)\n",
        "        totalsum = np.float128(totalsum) + np.float128(aux2)\n",
        "        # print(totalsum)\n",
        "        i = i + 1\n",
        "    \n",
        "    i = 1\n",
        "    totalsum2 = np.float128(0.0)\n",
        "    totalexp = np.float128(0.0)\n",
        "    aux = np.float128(0.0)\n",
        "    aux2 = np.float128(0.0)\n",
        "    while i <= m:\n",
        "        totalexp = 0\n",
        "        j =1\n",
        "        while(j <= n):\n",
        "          aux = np.float128(a[i-1][j-1]*x[j-1] + b[i-1])\n",
        "          totalexp = np.float128(totalexp) + np.float128(aux)\n",
        "          j = j +1\n",
        "        aux2 = np.float128(np.exp(np.float128(totalexp))*a.item(i-1,1))\n",
        "        #print(aux2)\n",
        "\n",
        "        totalsum2 = np.float128(totalsum2) + np.float128(aux2)\n",
        "        # print(totalsum)\n",
        "        i = i + 1\n",
        "\n",
        "    return np.array([(1/fsinLog(x))*totalsum, (1/fsinLog(x))*totalsum2], dtype=np.float64) #retorna float64\n",
        "\n",
        "print(fdx(x))"
      ],
      "execution_count": 178,
      "outputs": [
        {
          "output_type": "stream",
          "name": "stdout",
          "text": [
            "[7.57841727 8.5169615 ]\n"
          ]
        }
      ]
    },
    {
      "cell_type": "code",
      "metadata": {
        "id": "C3E72ERQkIA6",
        "colab": {
          "base_uri": "https://localhost:8080/"
        },
        "outputId": "70823893-c9e4-4947-e4ab-cd2400d06d78"
      },
      "source": [
        "def backtrack4(x0, f, fdx, t = 1, alpha = 0.2, beta = 0.3):\n",
        "    \n",
        "    point = x0 #Necessary to ensure matrix form\n",
        "    #print(point)\n",
        "    it=0\n",
        "    #while f(point - np.dot(t,fdx(point))) > f(point) + alpha * t * np.asscalar(np.dot(np.transpose(fdx(point)), -1*fdx(point))):\n",
        "    while f(point - np.dot(t,fdx(point))) > f(point) + alpha * t * (np.dot(np.transpose(fdx(point)), -1*fdx(point))):\n",
        "         t *= beta\n",
        "         #print(f(point - np.dot(t,fdx(point))),f(point) + alpha * t * (np.dot(np.transpose(fdx(point)), -1*fdx(point))),it)\n",
        "         it=it+1\n",
        "    return t\n",
        "\n",
        "backtrack4([0.1,0.1], f, fdx)"
      ],
      "execution_count": 179,
      "outputs": [
        {
          "output_type": "execute_result",
          "data": {
            "text/plain": [
              "0.027"
            ]
          },
          "metadata": {},
          "execution_count": 179
        }
      ]
    },
    {
      "cell_type": "code",
      "metadata": {
        "id": "Tu1yKnGX7CDO"
      },
      "source": [
        "# def backtrack5(x0, f, deltax, t = 1, alpha = 0.4, beta = 0.9):\n",
        "    \n",
        "#     point = x0 #Necessary to ensure matrix form\n",
        "#     #print(point)\n",
        "#     #while f(point - np.dot(t,fdx(point))) > f(point) + alpha * t * np.asscalar(np.dot(np.transpose(fdx(point)), -1*fdx(point))):\n",
        "#     while f(point - np.dot(t,deltax)) > f(point) + alpha * t * (np.dot(np.transpose(deltax), -1*deltax)):\n",
        "#          t = t*beta\n",
        "#         #  print(t)\n",
        "#     return t\n",
        "\n",
        "# backtrack5(x, f,fdx)"
      ],
      "execution_count": 180,
      "outputs": []
    },
    {
      "cell_type": "code",
      "metadata": {
        "id": "JUsp861LkJeg",
        "colab": {
          "base_uri": "https://localhost:8080/"
        },
        "outputId": "e5e9fae3-a7a7-4475-a6ef-81b9fca34011"
      },
      "source": [
        "#@title\n",
        "def grad(x0, max_iter):\n",
        "    iter = 1\n",
        "    \n",
        "    while (np.linalg.norm(np.array(fdx(x0))) > 0.0001):\n",
        "    #Find stepsize by backtracking\n",
        "        t = backtrack4(x0, f, fdx) #Step Size\n",
        "        x0 = x0 - np.dot(t, np.transpose(fdx(x0)))\n",
        "        #Calculate New Value of Function\n",
        "        print(x0, f(x0), fdx(x0),t, iter)\n",
        "        iter += 1\n",
        "        if iter > max_iter:\n",
        "            break\n",
        "    return x0, f(x0), iter\n",
        "\n",
        "grad(x, 100)"
      ],
      "execution_count": 181,
      "outputs": [
        {
          "output_type": "stream",
          "name": "stdout",
          "text": [
            "[0.31794245 0.23347346] 21.158072559988895 [0.84008446 1.13834801] 0.09 1\n",
            "[0.24233484 0.13102214] 21.033254319593116 [0.39150153 0.39277512] 0.09 2\n",
            "[0.20709971 0.09567238] 21.01346261486908 [0.24028082 0.09831031] 0.09 3\n",
            "[0.18547443 0.08682446] 21.00906017527279 [0.08702672 0.09896451] 0.09 4\n",
            "[0.17764203 0.07791765] 21.00795226476616 [0.07009394 0.01142018] 0.09 5\n",
            "[0.17133357 0.07688983] 21.007654924809344 [0.01614589 0.03782841] 0.09 6\n",
            "[0.16988044 0.07348528] 21.00757177967718 [ 0.02551927 -0.00690279] 0.09 7\n",
            "[0.16758371 0.07410653] 21.007547394852 [-0.00099379  0.01907037] 0.09 8\n",
            "[0.16767315 0.07239019] 21.007539489616036 [ 0.0118139  -0.00935358] 0.09 9\n",
            "[0.16735418 0.07264274] 21.007534932811673 [ 0.00696653 -0.00301507] 0.027 10\n",
            "[0.16672719 0.0729141 ] 21.007533432773698 [-0.00099078  0.00576418] 0.09 11\n",
            "[0.16675394 0.07275846] 21.00753273802927 [0.00035377 0.00305379] 0.027 12\n",
            "[0.1667221  0.07248362] 21.007532444465525 [ 0.00196519 -0.00118749] 0.09 13\n",
            "[0.16654523 0.0725905 ] 21.007532346146412 [-0.00049232  0.00178465] 0.09 14\n",
            "[0.16655853 0.07254231] 21.007532277790457 [-2.70904041e-05  9.09207377e-04] 0.027 15\n",
            "[0.16656096 0.07246048] 21.00753225914263 [ 0.00056835 -0.00043743] 0.09 16\n",
            "[0.16654562 0.07247229] 21.00753224879381 [ 0.00033737 -0.00013822] 0.027 17\n",
            "[0.16651525 0.07248473] 21.00753224518709 [-4.32804575e-05  2.76150053e-04] 0.09 18\n",
            "[0.16651642 0.07247728] 21.0075322435967 [2.01366214e-05 1.46825256e-04] 0.027 19\n",
            "[0.16651461 0.07246406] 21.00753224288731 [ 9.49708677e-05 -5.52482271e-05] 0.09 20\n",
            "[0.16650606 0.07246904] 21.007532242652164 [-2.24641787e-05  8.53027158e-05] 0.09 21\n"
          ]
        },
        {
          "output_type": "execute_result",
          "data": {
            "text/plain": [
              "(array([0.16650606, 0.07246904]), 21.007532242652164, 22)"
            ]
          },
          "metadata": {},
          "execution_count": 181
        }
      ]
    },
    {
      "cell_type": "code",
      "metadata": {
        "id": "AFD1mmL3mPbd",
        "colab": {
          "base_uri": "https://localhost:8080/",
          "height": 548
        },
        "outputId": "c7e6d097-2b14-49be-ede7-59c02fb7be82"
      },
      "source": [
        "import matplotlib.pyplot as plt\n",
        "\n",
        "x00= np.arange(-3, 7, 0.01)\n",
        "#print(x0)\n",
        "y=[]\n",
        "for i in x00:\n",
        "    y.append(f([-0.019501,i]))\n",
        "    #print(f([0.1,i]))\n",
        "\n",
        "plt.figure(figsize=(14,8))\n",
        "plt.plot(x00,y,'')\n",
        "plt.ylabel('f(x)')\n",
        "plt.xlabel('x')\n",
        "#plt.axis([0, 2450, 0, 45])\n",
        "plt.grid(True)\n",
        "plt.title('f(x)')\n",
        "# [xmin, xmax, ymin, ymax] \n",
        "plt.show()\n",
        "print(\"por evaluaciónes: \"+str(min(y)))\n",
        "print(\"por optimización: \"+str(f([-0.019501 , -0.0005068])))"
      ],
      "execution_count": 182,
      "outputs": [
        {
          "output_type": "display_data",
          "data": {
            "image/png": "[encoded data removed]",
            "text/plain": [
              "<Figure size 1008x576 with 1 Axes>"
            ]
          },
          "metadata": {
            "needs_background": "light"
          }
        },
        {
          "output_type": "stream",
          "name": "stdout",
          "text": [
            "por evaluaciónes: 21.112934595883925\n",
            "por optimización: 21.115253529478966\n"
          ]
        }
      ]
    },
    {
      "cell_type": "code",
      "metadata": {
        "id": "gM4URl98FUN8"
      },
      "source": [
        "def Hessian(x0,fdx): # (punto actual, primera derivada)\n",
        "  dt=1e-4\n",
        "  dxdx=( fdx( [x0[0]+dt, x0[1]] )[0] - fdx(x0)[0] ) / dt\n",
        "  dxdy=( fdx( [ x0[0]+dt , x0[1] ] )[1] - fdx(x0)[1] ) / dt\n",
        "  dydx=( fdx( [ x0[0] , x0[1]+dt ] )[0] - fdx(x0)[0] ) / dt\n",
        "  dydy=( fdx( [ x0[0] , x0[1]+dt ] )[1] - fdx(x0)[1] ) / dt\n",
        "  return[[dxdx,dxdy],[dydx,dydy]]"
      ],
      "execution_count": 183,
      "outputs": []
    },
    {
      "cell_type": "code",
      "metadata": {
        "id": "9oAYnnhjug3f"
      },
      "source": [
        "def backtrack5(x0, f, fdx, t = 1, alpha = 0.05, beta = 0.2):\n",
        "    \n",
        "    point = x0 #Necessary to ensure matrix form\n",
        "    #print(point)\n",
        "    #while f(point - np.dot(t,fdx(point))) > f(point) + alpha * t * np.asscalar(np.dot(np.transpose(fdx(point)), -1*fdx(point))):\n",
        "    while f(point - np.dot(t,-fdx)) > f(point) + alpha * t * (np.dot(np.transpose(-fdx), 1*fdx)):\n",
        "      t *= beta\n",
        "      #print(f(point - np.dot(t,fdx)))\n",
        "    return t"
      ],
      "execution_count": 184,
      "outputs": []
    },
    {
      "cell_type": "code",
      "metadata": {
        "id": "xSXy58VMMDjv",
        "colab": {
          "base_uri": "https://localhost:8080/"
        },
        "outputId": "4c550359-9dbc-4718-8ca5-ca58262d6004"
      },
      "source": [
        "\n",
        "import numpy.linalg as npla\n",
        "##################################################\n",
        "x=[1,1]  #Método de newton siempre parte de [1,1]\n",
        "######################################################\n",
        "\n",
        "def lambda_sq(fdx, Hessian, point):\n",
        "    lambda_sq1 = np.dot(fdx(point).T, np.dot(npla.pinv( Hessian(point,fdx) ) , fdx(point)  )) \n",
        "    return lambda_sq1.item() \n",
        "     \n",
        "def delta_x(fdx, Hessian, point):\n",
        "    delta_x =- np.dot(npla.pinv(Hessian(point,fdx)) , fdx(point))\n",
        "    return np.array(delta_x)\n",
        "\n",
        "#eps is the tolerance condition to exit out of the while loop\n",
        "def newtons_method(x, eps=0.0001, max_iters=20):\n",
        "    iters = 1\n",
        "    lmb_sq = lambda_sq(fdx, Hessian, x)\n",
        "    #In while loop we are checking the magnitude of Newton's decrement. If it's below tolerance we exit out.\n",
        "    #t=0.0001\n",
        "    print(x, f(x), fdx(x), 0, iters)\n",
        "    while(( ((lmb_sq))**2/2.0) > eps):\n",
        "        dlt_x = delta_x(fdx, Hessian, x) # paso\n",
        "        lmb_sq = lambda_sq(fdx, Hessian, x)  #decremento\n",
        "\n",
        "        t =backtrack5(x, f, dlt_x)  # t óptimo\n",
        "        x = np.array((x + np.dot(t , dlt_x))) # nuevo x\n",
        "\n",
        "        print(x, f(x), fdx(x), t, iters)\n",
        "        iters = 1 + iters  \n",
        "        if(iters > max_iters):\n",
        "            break\n",
        "    return x, f(x), iters\n",
        "#Test\n",
        "newtons_method(x)"
      ],
      "execution_count": 185,
      "outputs": [
        {
          "output_type": "stream",
          "name": "stdout",
          "text": [
            "[1, 1] 29.206584857554553 [7.57841727 8.5169615 ] 0 1\n",
            "[0.84404238 1.03713826] 28.34191725970769 [7.56029064 8.50060262] 0.0016000000000000005 1\n",
            "[-0.35941175  0.93873002] 24.7406842546796 [-4.44800414  3.35920025] 0.04000000000000001 2\n",
            "[0.21081158 0.46841464] 21.572107822187782 [-0.59830298  2.32623447] 0.2 3\n",
            "[0.22480354 0.35032556] 21.31694087843336 [-0.3857712   1.87559974] 0.2 4\n",
            "[0.22233793 0.25132863] 21.15197932285497 [-0.23646389  1.45036272] 0.2 5\n",
            "[0.21288111 0.19165069] 21.07700211957754 [-0.15486625  1.10593742] 0.2 6\n",
            "[0.16869842 0.02247789] 21.031211463054873 [ 0.41188111 -0.98261785] 1 7\n",
            "[0.16303447 0.06403839] 21.007970063916968 [ 0.02663144 -0.11577343] 1 8\n",
            "[0.16650195 0.0722804 ] 21.0075325105758 [ 0.00125693 -0.00295347] 1 9\n"
          ]
        },
        {
          "output_type": "execute_result",
          "data": {
            "text/plain": [
              "(array([0.16650195, 0.0722804 ]), 21.0075325105758, 10)"
            ]
          },
          "metadata": {},
          "execution_count": 185
        }
      ]
    }
  ]
}