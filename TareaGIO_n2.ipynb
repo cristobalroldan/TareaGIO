{
  "nbformat": 4,
  "nbformat_minor": 0,
  "metadata": {
    "colab": {
      "name": "TareaGIO-n2.ipynb",
      "provenance": [],
      "collapsed_sections": [],
      "include_colab_link": true
    },
    "kernelspec": {
      "name": "python3",
      "display_name": "Python 3"
    },
    "language_info": {
      "name": "python"
    },
    "accelerator": "GPU"
  },
  "cells": [
    {
      "cell_type": "markdown",
      "metadata": {
        "id": "view-in-github",
        "colab_type": "text"
      },
      "source": [
        "<a href=\"https://colab.research.google.com/github/cristobalroldan/TareaGIO/blob/main/TareaGIO_n2.ipynb\" target=\"_parent\"><img src=\"https://colab.research.google.com/assets/colab-badge.svg\" alt=\"Open In Colab\"/></a>"
      ]
    },
    {
      "cell_type": "code",
      "metadata": {
        "id": "0wg329tGj5TT",
        "colab": {
          "base_uri": "https://localhost:8080/"
        },
        "outputId": "0eff48e3-3a89-4626-e1c5-9fa7bdf8dec6"
      },
      "source": [
        "import numpy as np \n",
        "import math\n",
        "\n",
        "m = 100\n",
        "n = 2\n",
        "a = np.random.uniform(-10,10, size=(m,n))\n",
        "np.around(a,2,a)\n",
        "b = np.random.uniform(-10,10, m)\n",
        "np.around(b,2,b)"
      ],
      "execution_count": 212,
      "outputs": [
        {
          "output_type": "execute_result",
          "data": {
            "text/plain": [
              "array([-7.05,  4.26,  1.53,  5.27,  5.86,  1.19,  9.16,  6.95,  2.41,\n",
              "       -8.1 ,  9.12,  4.95,  6.38, -1.32, -5.32, -9.73, -8.29, -2.5 ,\n",
              "       -3.  ,  1.95,  7.84, -5.41,  4.31, -3.18, -5.41, -6.85, -3.97,\n",
              "       -6.01,  6.85, -4.98, -4.51, -5.16,  8.63,  9.34, -3.09, -3.61,\n",
              "        4.4 , -2.7 ,  4.36,  9.58, -7.82, -1.28,  4.55, -6.62,  0.94,\n",
              "       -7.54, -8.83,  6.  ,  5.51, -7.73,  9.67,  8.41,  7.31, -6.05,\n",
              "        8.9 , -7.68, -6.63,  7.23,  0.93, -6.58, -0.34,  0.69,  8.14,\n",
              "       -6.08, -1.  ,  0.92, -9.7 ,  5.97,  7.04, -6.18, -7.17,  2.03,\n",
              "       -6.94,  9.04, -0.71,  6.52,  9.73,  7.37, -5.96,  5.06, -8.53,\n",
              "       -9.73, -3.22,  7.11, -7.48, -6.78,  6.59,  9.22, -8.96, -8.6 ,\n",
              "       -7.98, -2.17,  6.58,  6.16, -7.14, -1.11,  9.36, -9.83, -0.92,\n",
              "       -9.16])"
            ]
          },
          "metadata": {},
          "execution_count": 212
        }
      ]
    },
    {
      "cell_type": "code",
      "metadata": {
        "id": "FKtv6G2Dj-41",
        "colab": {
          "base_uri": "https://localhost:8080/"
        },
        "outputId": "57559197-83e7-4b46-91ca-39dbde3660ca"
      },
      "source": [
        "#x = np.random.randint(1,20, n)\n",
        "x=[1,1] # x fijo\n",
        "print(x)"
      ],
      "execution_count": 213,
      "outputs": [
        {
          "output_type": "stream",
          "name": "stdout",
          "text": [
            "[1, 1]\n"
          ]
        }
      ]
    },
    {
      "cell_type": "code",
      "metadata": {
        "id": "hDtjX52jkAap",
        "colab": {
          "base_uri": "https://localhost:8080/"
        },
        "outputId": "520e27a0-2749-44e0-d8d9-e30e177bc227"
      },
      "source": [
        "def f(x): \n",
        "    i = 1\n",
        "    totalsum = np.float128(0.0)\n",
        "    totalexp = np.float128(0.0)\n",
        "    aux = np.float128(0.0)\n",
        "    aux2 = np.float128(0.0)\n",
        "    while i <= m:\n",
        "        totalexp = 0\n",
        "        j = 1\n",
        "        while j <= n:\n",
        "            aux = np.float128(((a[i-1][j-1])*x[j-1]) + b[i-1])\n",
        "            totalexp = np.float128(totalexp) + np.float128(aux)\n",
        "            j = j + 1\n",
        "        aux2 = np.float128(np.exp(np.float128(totalexp)))\n",
        "        #print(aux)\n",
        "        totalsum = np.float128(totalsum + aux2)\n",
        "        #print(totalsum)\n",
        "        i = i + 1\n",
        "    return np.log(np.float64(totalsum)) # retorna float 64 bits\n",
        "f(x)\n"
      ],
      "execution_count": 214,
      "outputs": [
        {
          "output_type": "execute_result",
          "data": {
            "text/plain": [
              "28.296464141488237"
            ]
          },
          "metadata": {},
          "execution_count": 214
        }
      ]
    },
    {
      "cell_type": "code",
      "metadata": {
        "id": "ghskbnenkDrH",
        "colab": {
          "base_uri": "https://localhost:8080/"
        },
        "outputId": "985848ff-9da5-4b2d-8e5d-466f6b3aa61f"
      },
      "source": [
        "def fsinLog(x): \n",
        "    i = 1\n",
        "    totalsum = np.float128(0.0)\n",
        "    totalexp = np.float128(0.0)\n",
        "    aux = np.float128(0.0)\n",
        "    aux2 = np.float128(0.0)\n",
        "    while i <= m:\n",
        "        totalexp = 0\n",
        "        j = 1\n",
        "        while j <= n:\n",
        "            aux = np.float128(((a[i-1][j-1])*x[j-1]) + b[i-1])\n",
        "            totalexp = np.float128(totalexp + aux)\n",
        "            j = j + 1\n",
        "        aux2 = np.exp(np.float128(totalexp))\n",
        "        #print(aux)\n",
        "        totalsum = np.float128(totalsum + aux2)\n",
        "        #print(totalsum)\n",
        "        i = i + 1\n",
        "    return np.float128(totalsum)\n",
        "fsinLog(x)"
      ],
      "execution_count": 215,
      "outputs": [
        {
          "output_type": "execute_result",
          "data": {
            "text/plain": [
              "1945352171190.71313"
            ]
          },
          "metadata": {},
          "execution_count": 215
        }
      ]
    },
    {
      "cell_type": "code",
      "metadata": {
        "id": "CoV4lei2kGJa",
        "colab": {
          "base_uri": "https://localhost:8080/"
        },
        "outputId": "8092d1e9-d336-41e5-8c5f-7c073c405cac"
      },
      "source": [
        "def fdx(x):\n",
        "    # print(x)\n",
        "    i = 1\n",
        "    totalsum = np.float128(0.0)\n",
        "    totalexp = np.float128(0.0)\n",
        "    aux = np.float128(0.0)\n",
        "    aux2 = np.float128(0.0)\n",
        "    while i <= m:\n",
        "        totalexp = 0\n",
        "        j =1\n",
        "        while(j <= n):\n",
        "          aux = np.float128(a[i-1][j-1]*x[j-1] + b[i-1])\n",
        "          totalexp = np.float128(totalexp) + np.float128(aux)\n",
        "          j = j+1\n",
        "        aux2 = np.float128(np.exp(np.float128(totalexp))*a.item(i-1,0))\n",
        "        #print(aux2)\n",
        "        totalsum = np.float128(totalsum) + np.float128(aux2)\n",
        "        # print(totalsum)\n",
        "        i = i + 1\n",
        "    \n",
        "    i = 1\n",
        "    totalsum2 = np.float128(0.0)\n",
        "    totalexp = np.float128(0.0)\n",
        "    aux = np.float128(0.0)\n",
        "    aux2 = np.float128(0.0)\n",
        "    while i <= m:\n",
        "        totalexp = 0\n",
        "        j =1\n",
        "        while(j <= n):\n",
        "          aux = np.float128(a[i-1][j-1]*x[j-1] + b[i-1])\n",
        "          totalexp = np.float128(totalexp) + np.float128(aux)\n",
        "          j = j +1\n",
        "        aux2 = np.float128(np.exp(np.float128(totalexp))*a.item(i-1,1))\n",
        "        #print(aux2)\n",
        "\n",
        "        totalsum2 = np.float128(totalsum2) + np.float128(aux2)\n",
        "        # print(totalsum)\n",
        "        i = i + 1\n",
        "\n",
        "    return np.array([(1/fsinLog(x))*totalsum, (1/fsinLog(x))*totalsum2], dtype=np.float64) #retorna float64\n",
        "\n",
        "print(fdx(x))"
      ],
      "execution_count": 216,
      "outputs": [
        {
          "output_type": "stream",
          "name": "stdout",
          "text": [
            "[7.41110858 4.58599999]\n"
          ]
        }
      ]
    },
    {
      "cell_type": "code",
      "metadata": {
        "id": "C3E72ERQkIA6",
        "colab": {
          "base_uri": "https://localhost:8080/"
        },
        "outputId": "37e9cda3-5ecd-4546-d85f-44415af69d93"
      },
      "source": [
        "def backtrack4(x0, f, fdx, t = 1, alpha = 0.2, beta = 0.3):\n",
        "    \n",
        "    point = x0 #Necessary to ensure matrix form\n",
        "    #print(point)\n",
        "    it=0\n",
        "    #while f(point - np.dot(t,fdx(point))) > f(point) + alpha * t * np.asscalar(np.dot(np.transpose(fdx(point)), -1*fdx(point))):\n",
        "    while f(point - np.dot(t,fdx(point))) > f(point) + alpha * t * (np.dot(np.transpose(fdx(point)), -1*fdx(point))):\n",
        "         t *= beta\n",
        "         #print(f(point - np.dot(t,fdx(point))),f(point) + alpha * t * (np.dot(np.transpose(fdx(point)), -1*fdx(point))),it)\n",
        "         it=it+1\n",
        "    return t\n",
        "\n",
        "backtrack4([0.1,0.1], f, fdx)"
      ],
      "execution_count": 217,
      "outputs": [
        {
          "output_type": "execute_result",
          "data": {
            "text/plain": [
              "0.027"
            ]
          },
          "metadata": {},
          "execution_count": 217
        }
      ]
    },
    {
      "cell_type": "code",
      "metadata": {
        "id": "Tu1yKnGX7CDO"
      },
      "source": [
        "# def backtrack5(x0, f, deltax, t = 1, alpha = 0.4, beta = 0.9):\n",
        "    \n",
        "#     point = x0 #Necessary to ensure matrix form\n",
        "#     #print(point)\n",
        "#     #while f(point - np.dot(t,fdx(point))) > f(point) + alpha * t * np.asscalar(np.dot(np.transpose(fdx(point)), -1*fdx(point))):\n",
        "#     while f(point - np.dot(t,deltax)) > f(point) + alpha * t * (np.dot(np.transpose(deltax), -1*deltax)):\n",
        "#          t = t*beta\n",
        "#         #  print(t)\n",
        "#     return t\n",
        "\n",
        "# backtrack5(x, f,fdx)"
      ],
      "execution_count": 218,
      "outputs": []
    },
    {
      "cell_type": "code",
      "metadata": {
        "id": "JUsp861LkJeg",
        "colab": {
          "base_uri": "https://localhost:8080/"
        },
        "outputId": "c809dc58-c15c-412f-b5f4-eb5e0137befc"
      },
      "source": [
        "#@title\n",
        "def grad(x0, max_iter):\n",
        "    iter = 1\n",
        "    \n",
        "    while (np.linalg.norm(np.array(fdx(x0))) > 0.0001):\n",
        "    #Find stepsize by backtracking\n",
        "        t = backtrack4(x0, f, fdx) #Step Size\n",
        "        x0 = x0 - np.dot(t, np.transpose(fdx(x0)))\n",
        "        #Calculate New Value of Function\n",
        "        print(x0, f(x0), fdx(x0),t, iter)\n",
        "        iter += 1\n",
        "        if iter > max_iter:\n",
        "            break\n",
        "    return x0, f(x0), iter\n",
        "\n",
        "grad(x, 100)"
      ],
      "execution_count": 219,
      "outputs": [
        {
          "output_type": "stream",
          "name": "stdout",
          "text": [
            "[0.33300023 0.58726   ] 22.932171942241094 [5.04025787 2.05144454] 0.09 1\n",
            "[-0.12062298  0.40262999] 21.98820189164478 [-5.31475999  2.59795329] 0.09 2\n",
            "[0.02287554 0.33248525] 21.428891747992115 [-0.01626294  1.86291877] 0.027 3\n",
            "[0.0243392  0.16482256] 21.177448350044205 [0.68579496 1.02512261] 0.09 4\n",
            "[-0.03738234  0.07256153] 21.115997442120136 [-0.92874233  0.41197533] 0.09 5\n",
            "[-0.0123063  0.0614382] 21.100775144620844 [-0.0499607   0.14487172] 0.027 6\n",
            "[-0.01095736  0.05752666] 21.100293180001128 [0.00999082 0.08769329] 0.027 7\n",
            "[-0.01185653  0.04963426] 21.099990326003564 [ 0.0160875  -0.01458643] 0.09 8\n",
            "[-0.0122909  0.0500281] 21.09998234472721 [ 0.00080025 -0.00731299] 0.027 9\n",
            "[-0.01236292  0.05068627] 21.099980722128613 [-0.00431484  0.00199367] 0.09 10\n",
            "[-0.01224642  0.05063244] 21.099980371746508 [-0.00043167  0.00075259] 0.027 11\n",
            "[-0.01223476  0.05061212] 21.099980357396237 [2.16086128e-05 4.24637658e-04] 0.027 12\n",
            "[-0.01223671  0.0505739 ] 21.099980350829355 [ 1.26740825e-04 -8.85427864e-05] 0.09 13\n",
            "[-0.01224013  0.05057629] 21.09998035044186 [ 9.19907378e-06 -4.10438113e-05] 0.027 14\n"
          ]
        },
        {
          "output_type": "execute_result",
          "data": {
            "text/plain": [
              "(array([-0.01224013,  0.05057629]), 21.09998035044186, 15)"
            ]
          },
          "metadata": {},
          "execution_count": 219
        }
      ]
    },
    {
      "cell_type": "code",
      "metadata": {
        "id": "AFD1mmL3mPbd",
        "colab": {
          "base_uri": "https://localhost:8080/",
          "height": 548
        },
        "outputId": "fd74eb58-db89-4816-a8ad-67d14e066f48"
      },
      "source": [
        "import matplotlib.pyplot as plt\n",
        "\n",
        "x00= np.arange(-3, 7, 0.01)\n",
        "#print(x0)\n",
        "y=[]\n",
        "for i in x00:\n",
        "    y.append(f([-0.019501,i]))\n",
        "    #print(f([0.1,i]))\n",
        "\n",
        "plt.figure(figsize=(14,8))\n",
        "plt.plot(x00,y,'')\n",
        "plt.ylabel('f(x)')\n",
        "plt.xlabel('x')\n",
        "#plt.axis([0, 2450, 0, 45])\n",
        "plt.grid(True)\n",
        "plt.title('f(x)')\n",
        "# [xmin, xmax, ymin, ymax] \n",
        "plt.show()\n",
        "print(\"por evaluaciónes: \"+str(min(y)))\n",
        "print(\"por optimización: \"+str(f([-0.019501 , -0.0005068])))"
      ],
      "execution_count": 220,
      "outputs": [
        {
          "output_type": "display_data",
          "data": {
            "image/png": "[encoded data removed]",
            "text/plain": [
              "<Figure size 1008x576 with 1 Axes>"
            ]
          },
          "metadata": {
            "needs_background": "light"
          }
        },
        {
          "output_type": "stream",
          "name": "stdout",
          "text": [
            "por evaluaciónes: 21.100794329056864\n",
            "por optimización: 21.118468166717513\n"
          ]
        }
      ]
    },
    {
      "cell_type": "code",
      "metadata": {
        "id": "gM4URl98FUN8"
      },
      "source": [
        "def Hessian(x0,fdx): #punto y derivada\n",
        "  dt=0.000001\n",
        "  dxdx=( fdx( [x0[0]+dt, x0[1]] )[0] - fdx(x0)[0] ) / dt\n",
        "  dxdy=( fdx( [ x0[0]+dt , x0[1] ] )[1] - fdx(x0)[1] ) / dt\n",
        "  dydx=( fdx( [ x0[0] , x0[1]+dt ] )[0] - fdx(x0)[0] ) / dt\n",
        "  dydy=( fdx( [ x0[0] , x0[1]+dt ] )[1] - fdx(x0)[1] ) / dt\n",
        "  return[[dxdx,dxdy],[dydx,dydy]]"
      ],
      "execution_count": 221,
      "outputs": []
    },
    {
      "cell_type": "code",
      "metadata": {
        "id": "_3-7yawsUx7_"
      },
      "source": [
        "def backtrack5(x0, f, fdx, t = 1, alpha = 0.2, beta = 0.3):\n",
        "    \n",
        "    point = x0 #Necessary to ensure matrix form\n",
        "    #print(point)\n",
        "    #while f(point - np.dot(t,fdx(point))) > f(point) + alpha * t * np.asscalar(np.dot(np.transpose(fdx(point)), -1*fdx(point))):\n",
        "    while f(point - np.dot(t,-fdx)) > f(point) + alpha * t * (np.dot(np.transpose(-fdx), 1*fdx)):\n",
        "      t *= beta\n",
        "      #print(f(point - np.dot(t,fdx)))\n",
        "    return t"
      ],
      "execution_count": 225,
      "outputs": []
    },
    {
      "cell_type": "code",
      "metadata": {
        "id": "Turs3Xt26d5w"
      },
      "source": [
        "import numpy.linalg as npla\n",
        "def lambda_sq(fdx, Hessian, point):\n",
        "    lambda_sq1 = np.dot(fdx(point).T, np.dot(npla.pinv( Hessian(point,fdx) ) , fdx(point)  )) \n",
        "    return lambda_sq1.item() \n",
        "     \n",
        "def delta_x(fdx, Hessian, point):\n",
        "    delta_x =- np.dot(npla.pinv(Hessian(point,fdx)) , fdx(point))\n",
        "    return np.array(delta_x)\n"
      ],
      "execution_count": 223,
      "outputs": []
    },
    {
      "cell_type": "code",
      "metadata": {
        "id": "xSXy58VMMDjv",
        "colab": {
          "base_uri": "https://localhost:8080/"
        },
        "outputId": "a457abe9-6f67-41a0-ebf8-a627a0b39d24"
      },
      "source": [
        "\n",
        "import numpy.linalg as npla\n",
        "##################################################\n",
        "x=[1,1]  #Método de newton siempre parte de [1,1]\n",
        "######################################################\n",
        "\n",
        "def lambda_sq(fdx, Hessian, point):\n",
        "    lambda_sq1 = np.dot(fdx(point).T, np.dot(npla.pinv( Hessian(point,fdx) ) , fdx(point)  )) \n",
        "    return lambda_sq1.item() \n",
        "     \n",
        "def delta_x(fdx, Hessian, point):\n",
        "    delta_x =- np.dot(npla.pinv(Hessian(point,fdx)) , fdx(point))\n",
        "    return np.array(delta_x)\n",
        "\n",
        "#eps is the tolerance condition to exit out of the while loop\n",
        "def newtons_method(x, eps=0.0001, max_iters=20):\n",
        "    iters = 1\n",
        "    lmb_sq = lambda_sq(fdx, Hessian, x)\n",
        "    #In while loop we are checking the magnitude of Newton's decrement. If it's below tolerance we exit out.\n",
        "    #t=0.0001\n",
        "    print(x, f(x), fdx(x), 0, iters)\n",
        "    while(( ((lmb_sq))**2/2.0) > eps):\n",
        "        dlt_x = delta_x(fdx, Hessian, x) # paso\n",
        "        lmb_sq = lambda_sq(fdx, Hessian, x)  #decremento\n",
        "\n",
        "        t =backtrack5(x, f, dlt_x)  # t óptimo\n",
        "        x = np.array((x + np.dot(t , dlt_x))) # nuevo x\n",
        "\n",
        "        print(x, f(x), fdx(x), t, iters)\n",
        "        iters = 1 + iters  \n",
        "        if(iters > max_iters):\n",
        "            break\n",
        "    return x, f(x), iters\n",
        "#Test\n",
        "newtons_method(x)"
      ],
      "execution_count": 227,
      "outputs": [
        {
          "output_type": "stream",
          "name": "stdout",
          "text": [
            "[1, 1] 28.296464141488237 [7.41110858 4.58599999] 0 1\n",
            "[0.37618249 1.26998434] 25.132918435835457 [6.08055937 4.09444409] 0.09 1\n",
            "[-0.28230532  0.69443835] 23.943327491654824 [-7.80654703  2.99892481] 1 2\n",
            "[-0.16725946 -0.16518466] 21.71603753721632 [-3.14486079 -3.58226689] 0.09 3\n",
            "[0.03690173 0.03169495] 21.1413814323829 [ 1.46080796 -0.42004947] 1 4\n",
            "[-0.0188771   0.05322795] 21.100800651551662 [-0.22183827  0.06586538] 1 5\n",
            "[-0.01231006  0.05061916] 21.099980450175057 [-0.00236707  0.00084803] 1 6\n"
          ]
        },
        {
          "output_type": "execute_result",
          "data": {
            "text/plain": [
              "(array([-0.01231006,  0.05061916]), 21.099980450175057, 7)"
            ]
          },
          "metadata": {},
          "execution_count": 227
        }
      ]
    }
  ]
}