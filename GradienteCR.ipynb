{
 "cells": [
  {
   "cell_type": "code",
   "execution_count": 96,
   "metadata": {},
   "outputs": [],
   "source": [
    "import numpy as np \n",
    "import math\n",
    "\n",
    "m = 100\n",
    "n = 2\n",
    "a = np.random.uniform(-10,10, size=(m,n))\n",
    "np.around(a,2,a)\n",
    "b = np.random.uniform(-10,10, m)\n",
    "np.around(b,2,b)\n",
    "x = np.random.randint(1,2, n)\n",
    "x=[1, 1] #n=2"
   ]
  },
  {
   "cell_type": "code",
   "execution_count": 98,
   "metadata": {},
   "outputs": [
    {
     "name": "stdout",
     "output_type": "stream",
     "text": [
      "[-5.9  -1.64]\n"
     ]
    }
   ],
   "source": [
    "print(a[0])"
   ]
  },
  {
   "cell_type": "code",
   "execution_count": 108,
   "metadata": {},
   "outputs": [
    {
     "data": {
      "text/plain": [
       "27.936725385489407"
      ]
     },
     "execution_count": 108,
     "metadata": {},
     "output_type": "execute_result"
    }
   ],
   "source": [
    "def f(x):\n",
    "    i = 1\n",
    "    j = 1\n",
    "    totalsum = 0\n",
    "    totalexp = 0\n",
    "    while i <= m:\n",
    "        totalexp = 0       # vuelve a cero por cada iteración\n",
    "        j=1                # Vuelve a 1 por cada iteración\n",
    "        while j <= n:\n",
    "            aux = ((a[i-1][j-1])*x[j-1]) + b[i-1]\n",
    "            #print(aux)\n",
    "            totalexp = totalexp + aux\n",
    "            #print(totalexp)\n",
    "            j = j + 1\n",
    "        aux2 = math.exp(totalexp)\n",
    "        #print(totalexp)\n",
    "        totalsum = totalsum + aux2\n",
    "        #print(aux2)\n",
    "        #print(totalsum)\n",
    "        i = i + 1\n",
    "    return np.log(totalsum)\n",
    "\n",
    "f(x)"
   ]
  },
  {
   "cell_type": "code",
   "execution_count": 112,
   "metadata": {},
   "outputs": [
    {
     "data": {
      "text/plain": [
       "2"
      ]
     },
     "execution_count": 112,
     "metadata": {},
     "output_type": "execute_result"
    }
   ],
   "source": [
    "x=[1, 1] #n=2\n",
    "def f1(x):\n",
    "    return (x[0]-2)**4 + (x[0]-(2*x[1]))**2\n",
    "f1(x)\n"
   ]
  },
  {
   "cell_type": "code",
   "execution_count": null,
   "metadata": {},
   "outputs": [],
   "source": [
    "def backtrack4(x0, f, fdx, t = 1, alpha = 0.2, beta = 0.8):\n",
    "    \n",
    "    point = np.asmatrix(x0) #Necessary to ensure matrix form\n",
    "    while f(point - np.dot(t,fdx(point).T)) > f(point) + alpha * t * np.asscalar(np.dot(fdx(point).T, -1*fdx(point))):\n",
    "         t *= beta\n",
    "    return t"
   ]
  }
 ],
 "metadata": {
  "kernelspec": {
   "display_name": "Python 3",
   "language": "python",
   "name": "python3"
  },
  "language_info": {
   "codemirror_mode": {
    "name": "ipython",
    "version": 3
   },
   "file_extension": ".py",
   "mimetype": "text/x-python",
   "name": "python",
   "nbconvert_exporter": "python",
   "pygments_lexer": "ipython3",
   "version": "3.8.3"
  }
 },
 "nbformat": 4,
 "nbformat_minor": 4
}
