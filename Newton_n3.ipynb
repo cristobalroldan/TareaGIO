{
  "nbformat": 4,
  "nbformat_minor": 0,
  "metadata": {
    "colab": {
      "name": "Newton_n3.ipynb",
      "provenance": [],
      "collapsed_sections": [],
      "authorship_tag": "ABX9TyMLQYDUMp0TbMsoI0BB1p6k",
      "include_colab_link": true
    },
    "kernelspec": {
      "name": "python3",
      "display_name": "Python 3"
    },
    "language_info": {
      "name": "python"
    }
  },
  "cells": [
    {
      "cell_type": "markdown",
      "metadata": {
        "id": "view-in-github",
        "colab_type": "text"
      },
      "source": [
        "<a href=\"https://colab.research.google.com/github/cristobalroldan/TareaGIO/blob/main/Newton_n3.ipynb\" target=\"_parent\"><img src=\"https://colab.research.google.com/assets/colab-badge.svg\" alt=\"Open In Colab\"/></a>"
      ]
    },
    {
      "cell_type": "code",
      "metadata": {
        "id": "wFy3hSV9Qr_W",
        "colab": {
          "base_uri": "https://localhost:8080/"
        },
        "outputId": "5305cec3-22ad-483c-b780-68f346d0719d"
      },
      "source": [
        "import numpy as np \n",
        "import math\n",
        "\n",
        "m = 1000\n",
        "n = 3\n",
        "a = np.random.uniform(-100,100, size=(m,n))\n",
        "np.around(a,2,a)\n",
        "b = np.random.uniform(-100,100, m)\n",
        "np.around(b,2,b)\n",
        "\n",
        "x=[1,1,1] # x fijo\n",
        "print(x)"
      ],
      "execution_count": 52,
      "outputs": [
        {
          "output_type": "stream",
          "name": "stdout",
          "text": [
            "[1, 1, 1]\n"
          ]
        }
      ]
    },
    {
      "cell_type": "code",
      "metadata": {
        "id": "S6J1s9gAQ2pn",
        "colab": {
          "base_uri": "https://localhost:8080/"
        },
        "outputId": "87183f49-3da1-4a84-ed89-27b6091fbfb7"
      },
      "source": [
        "def f(x): \n",
        "    i = 1\n",
        "    totalsum = np.float128(0.0)\n",
        "    totalexp = np.float128(0.0)\n",
        "    aux = np.float128(0.0)\n",
        "    aux2 = np.float128(0.0)\n",
        "    while i <= m:\n",
        "        totalexp = 0\n",
        "        j = 1\n",
        "        while j <= n:\n",
        "            aux = np.float128(((a[i-1][j-1])*x[j-1]) + b[i-1])\n",
        "            totalexp = np.float128(totalexp) + np.float128(aux)\n",
        "            j = j + 1\n",
        "        aux2 = np.float128(np.exp(np.float128(totalexp)))\n",
        "        #print(aux)\n",
        "        totalsum = np.float128(totalsum + aux2)\n",
        "        #print(totalsum)\n",
        "        i = i + 1\n",
        "    return np.log(np.float64(totalsum)) #retorna float 64, la salida no es tan grande\n",
        "f(x)\n"
      ],
      "execution_count": 53,
      "outputs": [
        {
          "output_type": "execute_result",
          "data": {
            "text/plain": [
              "520.9800000006861"
            ]
          },
          "metadata": {},
          "execution_count": 53
        }
      ]
    },
    {
      "cell_type": "code",
      "metadata": {
        "id": "C2cdQ6RsRIDe",
        "colab": {
          "base_uri": "https://localhost:8080/"
        },
        "outputId": "32b2e008-0304-4b07-fd72-0b708ca06f57"
      },
      "source": [
        "def fsinLog(x): \n",
        "    i = 1\n",
        "    totalsum = np.float128(0.0)\n",
        "    totalexp = np.float128(0.0)\n",
        "    aux = np.float128(0.0)\n",
        "    aux2 = np.float128(0.0)\n",
        "    while i <= m:\n",
        "        totalexp = 0\n",
        "        j = 1\n",
        "        while j <= n:\n",
        "            aux = np.float128(((a[i-1][j-1])*x[j-1]) + b[i-1])\n",
        "            totalexp = np.float128(totalexp + aux)\n",
        "            j = j + 1\n",
        "        aux2 = np.exp(np.float128(totalexp))\n",
        "        #print(aux)\n",
        "        totalsum = np.float128(totalsum + aux2)\n",
        "        #print(totalsum)\n",
        "        i = i + 1\n",
        "    return np.float128(totalsum)\n",
        "fsinLog(x)"
      ],
      "execution_count": 54,
      "outputs": [
        {
          "output_type": "execute_result",
          "data": {
            "text/plain": [
              "1.8144256729990416037e+226"
            ]
          },
          "metadata": {},
          "execution_count": 54
        }
      ]
    },
    {
      "cell_type": "code",
      "metadata": {
        "colab": {
          "base_uri": "https://localhost:8080/"
        },
        "id": "EfR8XtyloT1T",
        "outputId": "d28d2e10-9ef9-455c-8cdf-ca36b7b34052"
      },
      "source": [
        "def fdx3(x):\n",
        "    # print(x)\n",
        "    i = 1\n",
        "    totalsum = np.float128(0.0)\n",
        "    totalexp = np.float128(0.0)\n",
        "    aux = np.float128(0.0)\n",
        "    aux2 = np.float128(0.0)\n",
        "    while i <= m:\n",
        "        totalexp = 0\n",
        "        j =1\n",
        "        while(j <= n):\n",
        "          aux = a[i-1][j-1]*x[j-1] + b[i-1]\n",
        "          totalexp = np.float128(totalexp) + np.float128(aux)\n",
        "          j = j+1\n",
        "        aux2 = np.float128(np.exp(np.float128(totalexp))*a.item(i-1,0))\n",
        "        #print(aux2)\n",
        "        totalsum = np.float128(totalsum) + np.float128(aux2)\n",
        "        # print(totalsum)\n",
        "        i = i + 1\n",
        "    \n",
        "    i = 1\n",
        "    totalsum2 = np.float128(0.0)\n",
        "    totalexp = np.float128(0.0)\n",
        "    aux = np.float128(0.0)\n",
        "    aux2 = np.float128(0.0)\n",
        "    while i <= m:\n",
        "        totalexp = 0\n",
        "        j =1\n",
        "        while(j <= n):\n",
        "          aux = a[i-1][j-1]*x[j-1] + b[i-1]\n",
        "          totalexp = np.float128(totalexp) + np.float128(aux)\n",
        "          j = j +1\n",
        "        aux2 = np.float128(np.exp(np.float128(totalexp))*a.item(i-1,1))\n",
        "        #print(aux2)\n",
        "\n",
        "        totalsum2 = np.float128(totalsum2) + np.float128(aux2)\n",
        "        # print(totalsum)\n",
        "        i = i + 1\n",
        "      \n",
        "    i = 1\n",
        "    totalsum3 = np.float128(0.0)\n",
        "    totalexp = np.float128(0.0)\n",
        "    aux = np.float128(0.0)\n",
        "    aux2 = np.float128(0.0)\n",
        "    while i <= m:\n",
        "        totalexp = 0\n",
        "        j =1\n",
        "        while(j <= n):\n",
        "          aux = a[i-1][j-1]*x[j-1] + b[i-1]\n",
        "          totalexp = np.float128(totalexp) + np.float128(aux)\n",
        "          j = j +1\n",
        "        aux2 = np.float128(np.exp(np.float128(totalexp))*a.item(i-1,2))\n",
        "        #print(aux2)\n",
        "\n",
        "        totalsum3 = np.float128(totalsum3) + np.float128(aux2)\n",
        "        # print(totalsum)\n",
        "        i = i + 1\n",
        "\n",
        "    return np.array( [(1/fsinLog(x))*totalsum, (1/fsinLog(x))*totalsum2, (1/fsinLog(x))*totalsum3], dtype=float )\n",
        "\n",
        "print(fdx3(x))"
      ],
      "execution_count": 55,
      "outputs": [
        {
          "output_type": "stream",
          "name": "stdout",
          "text": [
            "[28.49000003 95.71999997 99.91999998]\n"
          ]
        }
      ]
    },
    {
      "cell_type": "code",
      "metadata": {
        "id": "mQJB8-vHyk7Q",
        "colab": {
          "base_uri": "https://localhost:8080/"
        },
        "outputId": "55daa4e5-c348-4ea5-be33-8e457d4cee6d"
      },
      "source": [
        "def Hessian3(x0,fdx3):\n",
        "  dt=1e-8\n",
        "  x1x1= ( fdx3( [ x0[0]+dt , x0[1], x0[2] ] )[0] - fdx3(x0)[0] ) / dt\n",
        "  x1x2= ( fdx3( [ x0[0]+dt , x0[1], x0[2] ] )[1] - fdx3(x0)[1] ) / dt\n",
        "  x1x3= ( fdx3( [ x0[0]+dt , x0[1], x0[2] ] )[2] - fdx3(x0)[2] ) / dt\n",
        "  x2x1= ( fdx3( [ x0[0] , x0[1]+dt, x0[2] ] )[0] - fdx3(x0)[0] ) / dt\n",
        "  x2x2= ( fdx3( [ x0[0] , x0[1]+dt, x0[2] ] )[1] - fdx3(x0)[1] ) / dt\n",
        "  x2x3= ( fdx3( [ x0[0] , x0[1]+dt, x0[2] ] )[2] - fdx3(x0)[2] ) / dt\n",
        "  x3x1= ( fdx3( [ x0[0] , x0[1], x0[2]+dt ] )[0] - fdx3(x0)[0] ) / dt\n",
        "  x3x2= ( fdx3( [ x0[0] , x0[1], x0[2]+dt ] )[1] - fdx3(x0)[1] ) / dt\n",
        "  x3x3= ( fdx3( [ x0[0] , x0[1], x0[2]+dt ] )[2] - fdx3(x0)[2] ) / dt\n",
        "  return np.array( [[x1x1, x1x2, x1x3], [x2x1, x2x2, x2x3], [x3x1, x3x2, x3x3]])\n",
        "\n",
        "\n",
        "print( Hessian3([1,1,1], fdx3 ) )"
      ],
      "execution_count": 56,
      "outputs": [
        {
          "output_type": "stream",
          "name": "stdout",
          "text": [
            "[[ 1.42108547e-06 -1.42108547e-06  0.00000000e+00]\n",
            " [-1.06581410e-06  1.42108547e-06  1.42108547e-06]\n",
            " [-1.06581410e-06  1.42108547e-06  1.42108547e-06]]\n"
          ]
        }
      ]
    },
    {
      "cell_type": "code",
      "metadata": {
        "id": "wqGR-rmIyyTc"
      },
      "source": [
        "def backtrack5(x0, f, dltx, t = 1, alpha = 1e-7, beta = 0.5): \n",
        "    \n",
        "    point = x0 \n",
        "    while f(point-np.dot(t,-dltx)) > f(point)+ alpha*t*(np.dot(np.transpose(-dltx),1*dltx)):\n",
        "      t *= beta\n",
        "    return t"
      ],
      "execution_count": 57,
      "outputs": []
    },
    {
      "cell_type": "code",
      "metadata": {
        "colab": {
          "base_uri": "https://localhost:8080/"
        },
        "id": "of4wbWRQwnuI",
        "outputId": "2efd7b03-9027-4e72-af09-4d6ed442c152"
      },
      "source": [
        "def backtrack4(x0, f, fdx3, t = 1, alpha = 1e-8, beta = 0.25):\n",
        "    \n",
        "    point = x0 #Necessary to ensure matrix form\n",
        "    #print(point)\n",
        "    it=0\n",
        "    #while f(point - np.dot(t,fdx(point))) > f(point) + alpha * t * np.asscalar(np.dot(np.transpose(fdx(point)), -1*fdx(point))):\n",
        "    while f(point - np.dot(t,fdx3(point))) > f(point) + alpha * t * (np.dot(np.transpose(fdx3(point)), -1*fdx3(point))):\n",
        "         t *= beta\n",
        "         #print(f(point - np.dot(t,fdx(point))),f(point) + alpha * t * (np.dot(np.transpose(fdx(point)), -1*fdx(point))),it)\n",
        "         it=it+1\n",
        "    return t\n",
        "\n",
        "backtrack4([1,1,1], f, fdx3)"
      ],
      "execution_count": 58,
      "outputs": [
        {
          "output_type": "stream",
          "name": "stderr",
          "text": [
            "/usr/local/lib/python3.7/dist-packages/ipykernel_launcher.py:14: RuntimeWarning: overflow encountered in exp\n",
            "  \n"
          ]
        },
        {
          "output_type": "execute_result",
          "data": {
            "text/plain": [
              "0.015625"
            ]
          },
          "metadata": {},
          "execution_count": 58
        }
      ]
    },
    {
      "cell_type": "code",
      "metadata": {
        "id": "fkMJaUryy21b",
        "colab": {
          "base_uri": "https://localhost:8080/"
        },
        "outputId": "fc0137e7-9d50-46c6-b956-a8f8cecf5a93"
      },
      "source": [
        "import numpy.linalg as npla\n",
        "##################################################\n",
        "x=[1,1,1]  #Método de newton siempre parte de [1,1]\n",
        "######################################################\n",
        "\n",
        "def lambda_sq(fdx, Hessian, point):\n",
        "    lambda_sq1 = np.dot(fdx(point).T, np.dot(npla.pinv( Hessian(point,fdx) ) , fdx(point)  )) \n",
        "    return lambda_sq1.item() \n",
        "     \n",
        "def delta_x(fdx, Hessian, point):\n",
        "    delta_x =- np.dot(npla.pinv(Hessian(point,fdx)) , fdx(point))\n",
        "    return np.array(delta_x)\n",
        "\n",
        "#eps is the tolerance condition to exit out of the while loop\n",
        "def newtons_method3(x, eps=0.0001, max_iters=20):\n",
        "    iters = 1\n",
        "    lmb_sq = lambda_sq(fdx3, Hessian3, x)\n",
        "    #In while loop we are checking the magnitude of Newton's decrement. If it's below tolerance we exit out.\n",
        "    #t=0.0001\n",
        "    print(x, f(x), fdx3(x), 0, iters)\n",
        "    while(( ((lmb_sq))**2/2.0) > eps):\n",
        "        dlt_x = delta_x(fdx3, Hessian3, x) # paso\n",
        "        lmb_sq = lambda_sq(fdx3, Hessian3, x)  #decremento\n",
        "        t =  backtrack5(x, f, dlt_x)  # t óptimo\n",
        "        #t = 0.000001*backtrack4(x, f, fdx3)  # t óptimo\n",
        "        x = np.array((x + np.dot(t , dlt_x))) # nuevo x\n",
        "\n",
        "        print(x, f(x), fdx3(x), t, lmb_sq, iters)\n",
        "        iters = 1 + iters  \n",
        "        if(iters > max_iters):\n",
        "            break\n",
        "    return x, f(x), iters\n",
        "#Test\n",
        "newtons_method3(x)"
      ],
      "execution_count": 65,
      "outputs": [
        {
          "output_type": "stream",
          "name": "stdout",
          "text": [
            "[1, 1, 1] 520.9800000006861 [28.49000003 95.71999997 99.91999998] 0 1\n"
          ]
        },
        {
          "output_type": "stream",
          "name": "stderr",
          "text": [
            "/usr/local/lib/python3.7/dist-packages/ipykernel_launcher.py:14: RuntimeWarning: overflow encountered in exp\n",
            "  \n"
          ]
        },
        {
          "output_type": "stream",
          "name": "stdout",
          "text": [
            "[ 0.38923308  0.98671168 -1.49622096] 461.3671506733936 [-23.85664691  38.04381646 -89.21703544] 2.9802322387695312e-08 8995778994.620335 1\n",
            "[-0.70359619  0.72495352 -0.30346379] 410.2138880335188 [-98.8002761   92.20717333  59.36942432] 0.00048828125 184937.05509110572 2\n",
            "[-0.47334096 -0.14765539 -0.0527055 ] 335.52346857147427 [-59.35726199 -78.76577139  66.67869801] 7.450580596923828e-09 11854472950.810867 3\n",
            "[-0.06441213  0.00062826  0.03703645] 305.65734583427144 [-59.64093237 -67.23939716  64.96642197] 3.0517578125e-05 982014.1991813112 4\n",
            "[-0.01324158 -0.00301491 -0.00744631] 301.3848835032432 [-19.48944846   7.41398648 -36.70334116] 0.03125 182.29699503006114 5\n",
            "[0.01338115 0.00605307 0.01295935] 301.13004177010606 [23.27947118 29.58055625 18.19795336] 1 1.2005883793399477 6\n",
            "[3.99940904e-03 6.56871319e-05 1.03974130e-02] 300.922505208115 [-3.59946961 -4.45572698 11.13540009] 1 0.442134133447452 7\n",
            "[0.00390098 0.00064495 0.00777925] 300.90697598092146 [-0.16857832 -0.10988762 -0.17702432] 1 0.031381028453308375 8\n",
            "[0.00398757 0.00067165 0.00785015] 300.9069609691391 [0.0004133  0.00074111 0.00045921] 1 3.008229795490501e-05 9\n"
          ]
        },
        {
          "output_type": "execute_result",
          "data": {
            "text/plain": [
              "(array([0.00398757, 0.00067165, 0.00785015]), 300.9069609691391, 10)"
            ]
          },
          "metadata": {},
          "execution_count": 65
        }
      ]
    }
  ]
}