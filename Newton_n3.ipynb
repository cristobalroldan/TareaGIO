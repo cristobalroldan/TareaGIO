{
  "nbformat": 4,
  "nbformat_minor": 0,
  "metadata": {
    "colab": {
      "name": "Newton_n3.ipynb",
      "provenance": [],
      "collapsed_sections": [],
      "authorship_tag": "ABX9TyOkamQV3i4t0iDjPss/oFMf",
      "include_colab_link": true
    },
    "kernelspec": {
      "name": "python3",
      "display_name": "Python 3"
    },
    "language_info": {
      "name": "python"
    }
  },
  "cells": [
    {
      "cell_type": "markdown",
      "metadata": {
        "id": "view-in-github",
        "colab_type": "text"
      },
      "source": [
        "<a href=\"https://colab.research.google.com/github/cristobalroldan/TareaGIO/blob/main/Newton_n3.ipynb\" target=\"_parent\"><img src=\"https://colab.research.google.com/assets/colab-badge.svg\" alt=\"Open In Colab\"/></a>"
      ]
    },
    {
      "cell_type": "code",
      "metadata": {
        "id": "wFy3hSV9Qr_W",
        "colab": {
          "base_uri": "https://localhost:8080/"
        },
        "outputId": "c372d7c4-a04b-494f-837b-5280e822d782"
      },
      "source": [
        "import numpy as np \n",
        "import math\n",
        "\n",
        "m = 1000\n",
        "n = 3\n",
        "a = np.random.uniform(-100,100, size=(m,n))\n",
        "np.around(a,2,a)\n",
        "b = np.random.uniform(-100,100, m)\n",
        "np.around(b,2,b)\n",
        "\n",
        "x=[1,1,1] # x fijo\n",
        "print(x)"
      ],
      "execution_count": 1,
      "outputs": [
        {
          "output_type": "stream",
          "name": "stdout",
          "text": [
            "[1, 1, 1]\n"
          ]
        }
      ]
    },
    {
      "cell_type": "code",
      "metadata": {
        "id": "S6J1s9gAQ2pn",
        "colab": {
          "base_uri": "https://localhost:8080/"
        },
        "outputId": "16372531-f525-4258-d58c-a3ec59453447"
      },
      "source": [
        "import numpy as np \n",
        "import math\n",
        "\n",
        "m = 1000\n",
        "n = 3\n",
        "a = np.random.uniform(-100,100, size=(m,n))\n",
        "np.around(a,2,a)\n",
        "b = np.random.uniform(-100,100, m)\n",
        "np.around(b,2,b)\n",
        "\n",
        "x=[1,1,1] # x fijo\n",
        "\n",
        "def f(x): \n",
        "    i = 1\n",
        "    totalsum = np.float128(0.0)\n",
        "    totalexp = np.float128(0.0)\n",
        "    aux = np.float128(0.0)\n",
        "    aux2 = np.float128(0.0)\n",
        "    while i <= m:\n",
        "        totalexp = 0\n",
        "        j = 1\n",
        "        while j <= n:\n",
        "            aux = np.float128(((a[i-1][j-1])*x[j-1]) + b[i-1])\n",
        "            totalexp = np.float128(totalexp) + np.float128(aux)\n",
        "            j = j + 1\n",
        "        aux2 = np.float128(np.exp(np.float128(totalexp)))\n",
        "        #print(aux)\n",
        "        totalsum = np.float128(totalsum + aux2)\n",
        "        #print(totalsum)\n",
        "        i = i + 1\n",
        "    return np.log(np.float64(totalsum)) #retorna float 64, la salida no es tan grande\n",
        "f(x)\n",
        "\n",
        "while 1 :\n",
        "  a = np.random.uniform(-100,100, size=(m,n))\n",
        "  np.around(a,2,a)\n",
        "  b = np.random.uniform(-100,100, m)\n",
        "  np.around(b,2,b)\n",
        "  if f(x)>520:\n",
        "    if f(x)<522:\n",
        "      print(f(x))\n",
        "      break\n",
        "\n",
        "\n"
      ],
      "execution_count": 2,
      "outputs": [
        {
          "output_type": "stream",
          "name": "stdout",
          "text": [
            "520.7700000000367\n"
          ]
        }
      ]
    },
    {
      "cell_type": "code",
      "metadata": {
        "id": "C2cdQ6RsRIDe",
        "colab": {
          "base_uri": "https://localhost:8080/"
        },
        "outputId": "b705df17-1d65-4f75-dbb4-b0cfcabf91b9"
      },
      "source": [
        "def fsinLog(x): \n",
        "    i = 1\n",
        "    totalsum = np.float128(0.0)\n",
        "    totalexp = np.float128(0.0)\n",
        "    aux = np.float128(0.0)\n",
        "    aux2 = np.float128(0.0)\n",
        "    while i <= m:\n",
        "        totalexp = 0\n",
        "        j = 1\n",
        "        while j <= n:\n",
        "            aux = np.float128(((a[i-1][j-1])*x[j-1]) + b[i-1])\n",
        "            totalexp = np.float128(totalexp + aux)\n",
        "            j = j + 1\n",
        "        aux2 = np.exp(np.float128(totalexp))\n",
        "        #print(aux)\n",
        "        totalsum = np.float128(totalsum + aux2)\n",
        "        #print(totalsum)\n",
        "        i = i + 1\n",
        "    return np.float128(totalsum)\n",
        "fsinLog(x)"
      ],
      "execution_count": 3,
      "outputs": [
        {
          "output_type": "execute_result",
          "data": {
            "text/plain": [
              "1.4707448650616716407e+226"
            ]
          },
          "metadata": {},
          "execution_count": 3
        }
      ]
    },
    {
      "cell_type": "code",
      "metadata": {
        "colab": {
          "base_uri": "https://localhost:8080/"
        },
        "id": "EfR8XtyloT1T",
        "outputId": "07c2bd6e-7536-4663-ddb3-a52fd3e1e26d"
      },
      "source": [
        "def fdx3(x):\n",
        "    # print(x)\n",
        "    i = 1\n",
        "    totalsum = np.float128(0.0)\n",
        "    totalexp = np.float128(0.0)\n",
        "    aux = np.float128(0.0)\n",
        "    aux2 = np.float128(0.0)\n",
        "    while i <= m:\n",
        "        totalexp = 0\n",
        "        j =1\n",
        "        while(j <= n):\n",
        "          aux = a[i-1][j-1]*x[j-1] + b[i-1]\n",
        "          totalexp = np.float128(totalexp) + np.float128(aux)\n",
        "          j = j+1\n",
        "        aux2 = np.float128(np.exp(np.float128(totalexp))*a.item(i-1,0))\n",
        "        #print(aux2)\n",
        "        totalsum = np.float128(totalsum) + np.float128(aux2)\n",
        "        # print(totalsum)\n",
        "        i = i + 1\n",
        "    \n",
        "    i = 1\n",
        "    totalsum2 = np.float128(0.0)\n",
        "    totalexp = np.float128(0.0)\n",
        "    aux = np.float128(0.0)\n",
        "    aux2 = np.float128(0.0)\n",
        "    while i <= m:\n",
        "        totalexp = 0\n",
        "        j =1\n",
        "        while(j <= n):\n",
        "          aux = a[i-1][j-1]*x[j-1] + b[i-1]\n",
        "          totalexp = np.float128(totalexp) + np.float128(aux)\n",
        "          j = j +1\n",
        "        aux2 = np.float128(np.exp(np.float128(totalexp))*a.item(i-1,1))\n",
        "        #print(aux2)\n",
        "\n",
        "        totalsum2 = np.float128(totalsum2) + np.float128(aux2)\n",
        "        # print(totalsum)\n",
        "        i = i + 1\n",
        "      \n",
        "    i = 1\n",
        "    totalsum3 = np.float128(0.0)\n",
        "    totalexp = np.float128(0.0)\n",
        "    aux = np.float128(0.0)\n",
        "    aux2 = np.float128(0.0)\n",
        "    while i <= m:\n",
        "        totalexp = 0\n",
        "        j =1\n",
        "        while(j <= n):\n",
        "          aux = a[i-1][j-1]*x[j-1] + b[i-1]\n",
        "          totalexp = np.float128(totalexp) + np.float128(aux)\n",
        "          j = j +1\n",
        "        aux2 = np.float128(np.exp(np.float128(totalexp))*a.item(i-1,2))\n",
        "        #print(aux2)\n",
        "\n",
        "        totalsum3 = np.float128(totalsum3) + np.float128(aux2)\n",
        "        # print(totalsum)\n",
        "        i = i + 1\n",
        "\n",
        "    return np.array( [(1/fsinLog(x))*totalsum, (1/fsinLog(x))*totalsum2, (1/fsinLog(x))*totalsum3], dtype=float )\n",
        "\n",
        "print(fdx3(x))"
      ],
      "execution_count": 4,
      "outputs": [
        {
          "output_type": "stream",
          "name": "stdout",
          "text": [
            "[90.54 97.14 74.37]\n"
          ]
        }
      ]
    },
    {
      "cell_type": "code",
      "metadata": {
        "id": "mQJB8-vHyk7Q",
        "colab": {
          "base_uri": "https://localhost:8080/"
        },
        "outputId": "8b60bf63-611a-4acd-d803-faddef55caad"
      },
      "source": [
        "def Hessian3(x0,fdx3):\n",
        "  dt=1e-8\n",
        "  x1x1= ( fdx3( [ x0[0]+dt , x0[1], x0[2] ] )[0] - fdx3(x0)[0] ) / dt\n",
        "  x1x2= ( fdx3( [ x0[0]+dt , x0[1], x0[2] ] )[1] - fdx3(x0)[1] ) / dt\n",
        "  x1x3= ( fdx3( [ x0[0]+dt , x0[1], x0[2] ] )[2] - fdx3(x0)[2] ) / dt\n",
        "  x2x1= ( fdx3( [ x0[0] , x0[1]+dt, x0[2] ] )[0] - fdx3(x0)[0] ) / dt\n",
        "  x2x2= ( fdx3( [ x0[0] , x0[1]+dt, x0[2] ] )[1] - fdx3(x0)[1] ) / dt\n",
        "  x2x3= ( fdx3( [ x0[0] , x0[1]+dt, x0[2] ] )[2] - fdx3(x0)[2] ) / dt\n",
        "  x3x1= ( fdx3( [ x0[0] , x0[1], x0[2]+dt ] )[0] - fdx3(x0)[0] ) / dt\n",
        "  x3x2= ( fdx3( [ x0[0] , x0[1], x0[2]+dt ] )[1] - fdx3(x0)[1] ) / dt\n",
        "  x3x3= ( fdx3( [ x0[0] , x0[1], x0[2]+dt ] )[2] - fdx3(x0)[2] ) / dt\n",
        "  return np.array( [[x1x1, x1x2, x1x3], [x2x1, x2x2, x2x3], [x3x1, x3x2, x3x3]])\n",
        "\n",
        "\n",
        "print( Hessian3([1,1,1], fdx3 ) )"
      ],
      "execution_count": 5,
      "outputs": [
        {
          "output_type": "stream",
          "name": "stdout",
          "text": [
            "[[1.42108547e-06 0.00000000e+00 0.00000000e+00]\n",
            " [0.00000000e+00 0.00000000e+00 0.00000000e+00]\n",
            " [0.00000000e+00 0.00000000e+00 0.00000000e+00]]\n"
          ]
        }
      ]
    },
    {
      "cell_type": "code",
      "metadata": {
        "id": "wqGR-rmIyyTc"
      },
      "source": [
        "def backtrack5(x0, f, dltx, t = 1, alpha = 1e-8, beta = 0.25): \n",
        "    \n",
        "    point = x0 \n",
        "    while f(point-np.dot(t,-dltx)) > f(point)+ alpha*t*(np.dot(np.transpose(-dltx),1*dltx)):\n",
        "      t *= beta\n",
        "    return t"
      ],
      "execution_count": 13,
      "outputs": []
    },
    {
      "cell_type": "code",
      "metadata": {
        "colab": {
          "base_uri": "https://localhost:8080/"
        },
        "id": "of4wbWRQwnuI",
        "outputId": "5f6bd5e7-3393-49bd-f769-ad88e2aa001c"
      },
      "source": [
        "def backtrack4(x0, f, fdx3, t = 1, alpha = 1e-8, beta = 0.25):\n",
        "    \n",
        "    point = x0 #Necessary to ensure matrix form\n",
        "    #print(point)\n",
        "    it=0\n",
        "    #while f(point - np.dot(t,fdx(point))) > f(point) + alpha * t * np.asscalar(np.dot(np.transpose(fdx(point)), -1*fdx(point))):\n",
        "    while f(point - np.dot(t,fdx3(point))) > f(point) + alpha * t * (np.dot(np.transpose(fdx3(point)), -1*fdx3(point))):\n",
        "         t *= beta\n",
        "         #print(f(point - np.dot(t,fdx(point))),f(point) + alpha * t * (np.dot(np.transpose(fdx(point)), -1*fdx(point))),it)\n",
        "         it=it+1\n",
        "    return t\n",
        "\n",
        "backtrack4([1,1,1], f, fdx3)"
      ],
      "execution_count": 7,
      "outputs": [
        {
          "output_type": "stream",
          "name": "stderr",
          "text": [
            "/usr/local/lib/python3.7/dist-packages/ipykernel_launcher.py:26: RuntimeWarning: overflow encountered in exp\n"
          ]
        },
        {
          "output_type": "execute_result",
          "data": {
            "text/plain": [
              "0.015625"
            ]
          },
          "metadata": {},
          "execution_count": 7
        }
      ]
    },
    {
      "cell_type": "code",
      "metadata": {
        "id": "fkMJaUryy21b",
        "colab": {
          "base_uri": "https://localhost:8080/"
        },
        "outputId": "7785f20f-8e4b-4c18-f350-ef7aad9a8501"
      },
      "source": [
        "import numpy.linalg as npla\n",
        "##################################################\n",
        "x=[1,1,1]  #Método de newton siempre parte de [1,1]\n",
        "######################################################\n",
        "\n",
        "def lambda_sq(fdx, Hessian, point):\n",
        "    lambda_sq1 = np.dot(fdx(point).T, np.dot(npla.pinv( Hessian(point,fdx) ) , fdx(point)  )) \n",
        "    return lambda_sq1.item() \n",
        "     \n",
        "def delta_x(fdx, Hessian, point):\n",
        "    delta_x =- np.dot(npla.pinv(Hessian(point,fdx)) , fdx(point))\n",
        "    return np.array(delta_x)\n",
        "\n",
        "#eps is the tolerance condition to exit out of the while loop\n",
        "def newtons_method3(x, eps=0.0001, max_iters=20):\n",
        "    iters = 1\n",
        "    lmb_sq = lambda_sq(fdx3, Hessian3, x)\n",
        "    #In while loop we are checking the magnitude of Newton's decrement. If it's below tolerance we exit out.\n",
        "    #t=0.0001\n",
        "    print(x, f(x), fdx3(x), 0, lmb_sq, iters)\n",
        "    while(( ((lmb_sq))/2.0) > eps):\n",
        "        dlt_x = delta_x(fdx3, Hessian3, x) # paso\n",
        "        lmb_sq = lambda_sq(fdx3, Hessian3, x)  #decremento\n",
        "        t =  backtrack5(x, f, dlt_x)  # t óptimo\n",
        "        #t = 0.000001*backtrack4(x, f, fdx3)  # t óptimo\n",
        "        x = np.array((x + np.dot(t , dlt_x))) # nuevo x\n",
        "\n",
        "        print(x, f(x), fdx3(x), t, lmb_sq, iters)\n",
        "        iters = 1 + iters  \n",
        "        if(iters > max_iters):\n",
        "            break\n",
        "    return x, f(x), iters\n",
        "#Test\n",
        "newtons_method3(x)"
      ],
      "execution_count": 14,
      "outputs": [
        {
          "output_type": "stream",
          "name": "stdout",
          "text": [
            "[1, 1, 1] 520.7700000000367 [90.54 97.14 74.37] 0 5768471892.785027 1\n"
          ]
        },
        {
          "output_type": "stream",
          "name": "stderr",
          "text": [
            "/usr/local/lib/python3.7/dist-packages/ipykernel_launcher.py:26: RuntimeWarning: overflow encountered in exp\n"
          ]
        },
        {
          "output_type": "stream",
          "name": "stdout",
          "text": [
            "[0.05061929 1.         1.        ] 452.36594562112435 [46.74000098 93.96000005 91.37999959] 1.4901161193847656e-08 5768471892.785027 1\n",
            "[ 0.0944901  -0.18266064  0.68150714] 374.0380792103897 [ 75.10999999 -48.48        91.79      ] 1.4901161193847656e-08 9272844433.705122 2\n",
            "[ 0.0944901  -0.18266064  0.68150714] 374.0380792103897 [ 75.10999999 -48.48        91.79      ] 1 0.0 3\n"
          ]
        },
        {
          "output_type": "execute_result",
          "data": {
            "text/plain": [
              "(array([ 0.0944901 , -0.18266064,  0.68150714]), 374.0380792103897, 4)"
            ]
          },
          "metadata": {},
          "execution_count": 14
        }
      ]
    }
  ]
}