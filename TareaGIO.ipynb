{
  "nbformat": 4,
  "nbformat_minor": 0,
  "metadata": {
    "colab": {
      "name": "TareaGIO.ipynb",
      "provenance": [],
      "collapsed_sections": [],
      "include_colab_link": true
    },
    "kernelspec": {
      "name": "python3",
      "display_name": "Python 3"
    },
    "language_info": {
      "name": "python"
    }
  },
  "cells": [
    {
      "cell_type": "markdown",
      "metadata": {
        "id": "view-in-github",
        "colab_type": "text"
      },
      "source": [
        "<a href=\"https://colab.research.google.com/github/cristobalroldan/TareaGIO/blob/main/TareaGIO.ipynb\" target=\"_parent\"><img src=\"https://colab.research.google.com/assets/colab-badge.svg\" alt=\"Open In Colab\"/></a>"
      ]
    },
    {
      "cell_type": "code",
      "metadata": {
        "id": "0wg329tGj5TT",
        "colab": {
          "base_uri": "https://localhost:8080/"
        },
        "outputId": "dae1ffe9-5001-43aa-8a7e-a683332eb5c3"
      },
      "source": [
        "import numpy as np \n",
        "import math\n",
        "\n",
        "m = 1000\n",
        "n = 3\n",
        "a = np.random.uniform(-10,10, size=(m,n))\n",
        "np.around(a,2,a)\n",
        "b = np.random.uniform(-10,10, m)\n",
        "np.around(b,2,b)"
      ],
      "execution_count": null,
      "outputs": [
        {
          "output_type": "execute_result",
          "data": {
            "text/plain": [
              "array([-5.44,  8.45, -6.75, -7.07, -9.37,  8.37,  9.08, -5.26, -7.94,\n",
              "       -1.35, -5.53,  9.74, -9.97, -5.17,  4.23, -3.16,  7.33,  0.95,\n",
              "       -9.56,  6.82,  1.78,  7.17,  3.33, -1.25, -2.46, -1.9 , -1.32,\n",
              "        6.68,  0.69, -6.66, -6.27,  0.15,  5.26,  5.22, -8.29, -6.81,\n",
              "        9.43,  8.4 , -1.12, -9.94, -1.56,  5.  , -6.49,  7.18,  2.41,\n",
              "       -7.41,  0.44, -7.39,  7.41,  7.1 ,  0.51, -3.99,  9.67, -2.96,\n",
              "        8.19,  5.95, -8.69, -0.68, -5.62, -0.07, -6.48,  9.49, -6.44,\n",
              "        6.35, -5.54, -3.34,  8.59,  1.32,  1.  ,  3.5 , -6.6 , -7.73,\n",
              "       -7.51,  9.36, -8.47,  6.07, -4.84,  9.92,  1.15, -7.39,  3.41,\n",
              "        4.56, -6.31, -8.31, -1.47,  2.76, -8.44,  6.26,  3.49, -4.89,\n",
              "        9.23, -0.3 ,  3.47,  1.08, -0.17, -4.36,  4.63,  7.2 , -0.8 ,\n",
              "        5.65, -3.86,  6.77, -9.13, -2.  , -6.  ,  6.23, -8.07, -8.56,\n",
              "       -8.76,  0.94,  2.28, -8.03, -6.11,  5.55,  5.06,  0.96,  0.88,\n",
              "       -8.2 ,  4.91,  5.83, -4.46,  3.95, -4.43, -0.88, -6.97, -5.55,\n",
              "       -6.98,  1.01, -1.68, -8.56,  0.41, -3.08,  4.49,  0.73, -3.27,\n",
              "        9.73,  7.77, -1.81, -9.78,  8.37, -2.86,  0.75,  2.6 , -4.74,\n",
              "        9.98, -9.36,  7.88,  9.24, -9.37, -2.53,  4.76,  4.91,  5.91,\n",
              "       -1.99,  4.61,  6.27, -6.54, -2.94,  9.62,  9.15, -9.06, -9.13,\n",
              "        4.94,  3.3 , -2.7 , -3.89, -4.33,  1.58, -7.69, -3.54, -6.55,\n",
              "        5.36, -0.55,  7.93,  0.1 ,  2.15, -6.19,  9.51, -8.18, -0.35,\n",
              "       -6.92, -8.77,  0.57, -8.89, -1.16,  1.34, -3.81,  2.51, -3.53,\n",
              "       -5.25,  9.14, -4.38,  7.58, -8.37, -5.79, -1.01,  9.84,  7.07,\n",
              "       -8.71, -0.43,  8.32,  6.92,  7.32, -2.39, -7.64, -7.11,  0.86,\n",
              "        5.33, -4.38,  0.66,  2.42, -0.3 , -1.63, -4.22, -1.32,  2.29,\n",
              "        0.97, -3.04,  6.75, -4.42, -1.61, -2.94,  8.3 ,  1.41, -1.2 ,\n",
              "       -6.99, -4.01,  2.62,  5.23, -9.23, -1.  ,  6.7 ,  1.3 ,  7.82,\n",
              "        3.5 ,  3.28,  2.05, -6.19,  0.52, -6.51, -2.97,  5.17,  2.39,\n",
              "        7.44, -1.59,  1.96, -4.39, -8.93, -3.42,  2.42, -9.25,  2.4 ,\n",
              "       -5.39,  4.53,  0.71,  5.48,  7.23,  2.61, -7.32, -5.27,  6.67,\n",
              "       -3.13, -9.55,  5.94, -6.7 , -3.99, -4.13,  6.76, -5.95, -5.68,\n",
              "        3.17, -5.61,  3.14,  2.64,  3.34,  0.55,  7.91,  3.88, -7.44,\n",
              "       -2.98,  9.22,  6.35, -0.51,  0.81, -2.55, -5.67,  0.96, -3.69,\n",
              "        8.91,  0.17, -9.88, -2.55, -5.57, -4.53,  3.6 , -8.56,  7.19,\n",
              "       -6.79, -3.85,  4.96, -8.48,  3.16, -7.65, -7.57,  4.54, -7.01,\n",
              "       -0.24,  2.58, -4.44, -0.73,  1.63,  8.96, -7.34, -4.86,  4.22,\n",
              "        4.24,  1.15, -3.31,  3.93,  9.62,  3.66,  9.65,  3.37,  7.3 ,\n",
              "       -7.43,  1.27,  9.94,  4.76, -2.35, -3.22,  3.55,  7.24, -2.39,\n",
              "       -0.43,  1.35, -1.8 , -6.67, -5.42,  4.67, -9.99,  9.46, -1.15,\n",
              "        6.29,  8.52, -8.57,  8.03,  7.97,  3.07, -0.69, -6.51, -6.12,\n",
              "       -8.99,  7.62,  0.3 , -4.69, -8.23,  4.1 , -1.69,  2.  , -0.11,\n",
              "        2.14,  5.  , -3.32,  3.86, -4.01, -8.91, -9.9 ,  5.66,  8.95,\n",
              "       -4.66,  5.02,  9.84, -2.72,  4.15,  5.92, -6.23, -9.12,  8.22,\n",
              "        2.6 , -9.19,  7.4 ,  9.84,  6.39,  6.11, -5.83,  0.47,  0.58,\n",
              "        5.58,  9.27, -9.43, -1.31,  9.89, -1.86,  8.68, -9.5 ,  2.2 ,\n",
              "        6.85, -8.06, -2.33,  4.33,  1.81, -5.4 , -3.81,  7.22,  4.35,\n",
              "        6.25, -1.07, -7.73,  7.09, -5.94, -2.59, -1.94, -6.58,  9.75,\n",
              "       -8.2 ,  7.94,  5.1 , -3.51,  6.32, -1.55, -9.91, -2.57, -3.26,\n",
              "       -7.26,  0.45, -2.45,  8.3 , -0.67, -8.45, -0.86,  9.57,  8.45,\n",
              "       -8.  , -2.48,  1.52,  0.43,  2.95,  5.69,  5.78,  1.76,  0.84,\n",
              "        7.3 ,  5.96, -4.27, -0.51,  4.82,  8.73,  6.01,  4.57,  4.78,\n",
              "        9.3 , -1.11,  9.12,  8.96, -5.76,  1.82,  4.74,  0.73,  0.22,\n",
              "       -3.54, -5.85,  8.59, -7.25, -3.68, -0.51, -9.77, -7.36,  9.78,\n",
              "        2.38,  3.16,  2.7 ,  2.89,  5.13,  6.27,  3.05,  7.13,  1.01,\n",
              "        5.09, -5.96,  5.93,  4.91,  3.87, -0.53,  0.09, -0.04,  2.48,\n",
              "       -3.59, -1.8 ,  6.4 ,  6.76, -0.64,  7.41,  6.5 , -8.26, -3.2 ,\n",
              "        2.93,  2.09,  1.53, -3.64,  5.39,  5.29,  0.26, -4.78, -6.6 ,\n",
              "       -1.71, -4.44,  4.24, -3.65,  1.93, -6.35, -2.64,  1.58,  9.93,\n",
              "       -0.47, -8.26, -6.3 ,  2.37,  8.94, -3.87, -1.42, -1.15,  7.91,\n",
              "        1.06, -9.55,  3.41,  3.79,  4.91, -1.85, -5.93, -5.68, -1.73,\n",
              "       -5.96, -8.88,  2.75, -2.03,  7.37,  5.25, -4.95,  2.47, -0.17,\n",
              "       -9.01, -0.09,  2.36,  9.76, -4.14, -7.95, -3.62, -3.99, -0.26,\n",
              "       -0.76,  8.69,  7.8 , -6.72,  7.18, -8.08,  6.17,  5.13,  3.06,\n",
              "        4.98, -1.69, -3.63, -7.13,  0.37,  3.78, -5.83,  9.57, -4.25,\n",
              "        8.17, -7.53, -1.1 , -3.83,  4.17, -8.81,  1.91, -4.46,  5.8 ,\n",
              "       -8.23, -4.38, -4.8 , -6.66, -4.07, -8.78, -6.1 , -8.12, -0.54,\n",
              "       -3.36, -1.69, -5.65, -1.12, -9.6 ,  5.25, -1.06, -8.7 , -3.41,\n",
              "       -3.18,  9.05,  6.78,  3.84, -4.44,  2.69, -4.09, -0.67, -9.3 ,\n",
              "       -1.88,  7.43, -4.02, -8.43,  5.37, -1.22, -6.28,  8.84, -3.68,\n",
              "       -7.35, -7.73, -2.58,  0.44, -0.03,  6.87,  7.96, -9.94, -0.88,\n",
              "        6.  ,  4.24,  3.68,  0.82, -8.47,  1.05, -4.17,  1.09, -2.74,\n",
              "       -2.36,  5.48,  5.12,  6.3 ,  1.42, -9.05, -9.33,  0.69,  7.61,\n",
              "       -5.7 , -8.53, -4.23, -4.78, -5.57, -8.85, -3.65,  1.85, -3.67,\n",
              "        3.69,  6.84, -9.85, -4.57, -1.82,  0.35, -2.79,  9.04,  7.13,\n",
              "        2.91,  1.53,  1.72, -2.95, -8.65, -8.39,  2.95, -9.22, -4.68,\n",
              "       -3.1 , -7.13,  3.89, -8.74,  3.04,  1.4 , -3.13,  6.15, -7.61,\n",
              "       -0.23,  2.01,  9.37,  3.62,  7.48, -9.75, -3.56,  3.68, -8.1 ,\n",
              "       -5.11, -2.31, -2.31, -6.37,  9.73,  4.01,  8.31,  1.97, -2.01,\n",
              "       -6.34, -5.57,  6.62, -2.57,  4.34, -6.18, -7.68, -6.35, -2.6 ,\n",
              "        6.29, -0.35,  6.88,  0.09, -8.03, -8.33, -1.09,  2.44,  0.7 ,\n",
              "       -4.93, -8.22,  4.  , -0.36, -9.3 ,  1.02,  6.26, -2.13, -2.28,\n",
              "        4.4 , -7.39, -9.12,  0.64,  0.94, -6.8 ,  9.51,  8.16, -4.4 ,\n",
              "       -0.94,  0.33,  5.05, -4.9 , -9.91,  6.04,  3.26, -7.92, -3.62,\n",
              "        4.94, -6.06, -9.27, -6.06, -7.06, -7.2 ,  1.77, -5.78, -1.15,\n",
              "       -0.74, -1.89, -0.39,  2.62,  8.76,  6.31, -3.83,  9.71,  5.3 ,\n",
              "       -9.62,  3.39,  0.28, -3.65, -5.21,  6.43, -0.95, -8.13, -5.19,\n",
              "        1.89,  8.61,  0.56, -1.78,  1.93,  9.22,  8.36,  8.55,  5.62,\n",
              "        1.74,  2.93,  9.2 ,  6.38, -2.12, -0.32,  4.34,  2.67, -4.85,\n",
              "       -3.48, -4.78,  3.47,  3.24,  7.36,  1.84,  2.08,  5.74,  5.86,\n",
              "        4.65,  2.09,  8.08, -2.76, -6.54, -1.08, -0.74,  3.8 ,  8.43,\n",
              "        8.8 , -9.21, -3.35,  0.34, -0.87, -7.69, -6.96,  5.86, -6.45,\n",
              "        4.34,  6.4 , -5.21,  0.47, -5.26, -9.33,  0.48, -4.08, -5.97,\n",
              "        4.09,  0.92,  9.5 ,  3.97,  6.33,  6.43, -8.17, -8.27,  3.73,\n",
              "        0.75,  3.44, -5.36, -8.1 , -1.21,  7.1 , -6.58,  2.34,  3.22,\n",
              "        4.  , -7.29, -5.84,  9.77,  4.4 ,  4.67, -9.99,  4.82, -2.35,\n",
              "        6.76, -5.23,  1.2 ,  6.37,  6.72, -1.17, -1.71, -5.44, -1.76,\n",
              "       -5.7 , -1.93,  6.96, -7.74,  6.01, -1.47, -4.14, -3.54,  4.48,\n",
              "        5.8 , -3.28, -7.68,  5.48,  1.78,  3.23, -3.41, -7.27, -7.6 ,\n",
              "        4.7 , -7.01,  8.79, -4.94,  5.28, -1.52, -1.18,  0.31,  4.33,\n",
              "        0.8 , -6.62,  7.96, -7.55, -5.48, -4.07,  8.03,  1.36, -9.74,\n",
              "       -6.84, -8.18,  8.57, -8.08,  9.2 , -9.08,  1.81, -6.78, -4.7 ,\n",
              "       -6.28, -6.14,  6.54, -9.57,  9.91,  9.71, -2.96, -1.46, -9.91,\n",
              "       -7.57,  1.69,  3.23,  2.79, -3.69,  2.36,  8.11, -6.58,  0.11,\n",
              "        2.77, -7.51, -1.07, -8.62, -9.42,  5.03, -8.71,  8.42, -9.73,\n",
              "        8.09, -3.09,  6.53,  7.69,  2.74,  3.99,  9.3 ,  1.85,  6.09,\n",
              "        1.61, -7.48,  8.47, -4.65,  8.23,  1.15,  4.52,  1.54, -2.86,\n",
              "       -0.28,  1.54, -9.83,  8.39,  3.58,  1.78,  4.79,  3.22,  8.83,\n",
              "        1.01,  3.99,  1.59, -0.11,  0.09,  8.15, -9.2 ,  2.37, -2.03,\n",
              "       -9.63,  2.98, -7.8 , -7.02,  4.2 ,  3.58,  6.16, -3.06,  2.79,\n",
              "        5.72,  9.73, -4.91, -9.32, -3.76,  7.68, -2.24,  1.42,  7.96,\n",
              "        2.72,  3.14,  1.83, -9.46,  6.92, -9.45,  6.2 , -6.77, -0.97,\n",
              "        4.91,  4.15, -9.81, -9.7 ,  3.39,  4.32,  2.13, -7.39,  9.38,\n",
              "       -3.35])"
            ]
          },
          "metadata": {},
          "execution_count": 41
        }
      ]
    },
    {
      "cell_type": "code",
      "metadata": {
        "id": "FKtv6G2Dj-41",
        "colab": {
          "base_uri": "https://localhost:8080/"
        },
        "outputId": "af1ebf49-92b2-472f-a6e8-6111ded4571d"
      },
      "source": [
        "#x = np.random.randint(1,20, n)\n",
        "x=[1,1,1] # x fijo\n",
        "print(x)"
      ],
      "execution_count": null,
      "outputs": [
        {
          "output_type": "stream",
          "name": "stdout",
          "text": [
            "[1, 1, 1]\n"
          ]
        }
      ]
    },
    {
      "cell_type": "code",
      "metadata": {
        "id": "hDtjX52jkAap",
        "colab": {
          "base_uri": "https://localhost:8080/"
        },
        "outputId": "597bb544-23be-4a23-a195-7923baf026b7"
      },
      "source": [
        "def f(x): \n",
        "    i = 1\n",
        "    totalsum = 0\n",
        "    while i <= m:\n",
        "        totalexp = 0\n",
        "        j = 1\n",
        "        while j <= n:\n",
        "            aux = ((a[i-1][j-1])*x[j-1]) + b[i-1]\n",
        "            totalexp = totalexp + aux\n",
        "            j = j + 1\n",
        "        aux2 = math.exp(totalexp)\n",
        "        #print(aux)\n",
        "        totalsum = totalsum + aux2\n",
        "        #print(totalsum)\n",
        "        i = i + 1\n",
        "    return np.log(totalsum)\n",
        "f(x)\n"
      ],
      "execution_count": null,
      "outputs": [
        {
          "output_type": "execute_result",
          "data": {
            "text/plain": [
              "29.960085514808522"
            ]
          },
          "metadata": {},
          "execution_count": 32
        }
      ]
    },
    {
      "cell_type": "code",
      "metadata": {
        "id": "ghskbnenkDrH",
        "colab": {
          "base_uri": "https://localhost:8080/"
        },
        "outputId": "61ec3f22-5efe-4395-f21d-750f154bd20c"
      },
      "source": [
        "def fsinLog(x): \n",
        "    i = 1\n",
        "    totalsum = 0\n",
        "    while i <= m:\n",
        "        totalexp = 0\n",
        "        j = 1\n",
        "        while j <= n:\n",
        "            aux = ((a[i-1][j-1])*x[j-1]) + b[i-1]\n",
        "            totalexp = totalexp + aux\n",
        "            j = j + 1\n",
        "        aux2 = math.exp(totalexp)\n",
        "        #print(aux)\n",
        "        totalsum = totalsum + aux2\n",
        "        #print(totalsum)\n",
        "        i = i + 1\n",
        "    return totalsum\n",
        "fsinLog(x)"
      ],
      "execution_count": null,
      "outputs": [
        {
          "output_type": "execute_result",
          "data": {
            "text/plain": [
              "10268329976426.256"
            ]
          },
          "metadata": {},
          "execution_count": 33
        }
      ]
    },
    {
      "cell_type": "code",
      "metadata": {
        "id": "CoV4lei2kGJa",
        "colab": {
          "base_uri": "https://localhost:8080/"
        },
        "outputId": "e0979496-a159-4fb6-80e6-b7e2873a9f87"
      },
      "source": [
        "def fdx(x):\n",
        "    # print(x)\n",
        "    i = 1\n",
        "    totalsum = 0\n",
        "    while i <= m:\n",
        "        totalexp = 0\n",
        "        j =1\n",
        "        while(j <= n):\n",
        "          aux = a[i-1][j-1]*x[j-1] + b[i-1]\n",
        "          totalexp = totalexp + aux\n",
        "          j = j+1\n",
        "        aux2 = math.exp(totalexp)*a.item(i-1,0)\n",
        "        #print(aux2)\n",
        "        totalsum = totalsum + aux2\n",
        "        # print(totalsum)\n",
        "        i = i + 1\n",
        "    \n",
        "    i = 1\n",
        "    totalsum2 = 0\n",
        "    while i <= m:\n",
        "        totalexp = 0\n",
        "        j =1\n",
        "        while(j <= n):\n",
        "          aux = a[i-1][j-1]*x[j-1] + b[i-1]\n",
        "          totalexp = totalexp + aux\n",
        "          j = j +1\n",
        "        aux2 = math.exp(totalexp)*a.item(i-1,1)\n",
        "        #print(aux2)\n",
        "\n",
        "        totalsum2 = totalsum2 + aux2\n",
        "        # print(totalsum)\n",
        "        i = i + 1\n",
        "\n",
        "    return np.array([(1/fsinLog(x))*totalsum, (1/fsinLog(x))*totalsum2])\n",
        "\n",
        "print(fdx(x))"
      ],
      "execution_count": null,
      "outputs": [
        {
          "output_type": "stream",
          "name": "stdout",
          "text": [
            "[4.72997401 7.47614614]\n"
          ]
        }
      ]
    },
    {
      "cell_type": "code",
      "metadata": {
        "colab": {
          "base_uri": "https://localhost:8080/"
        },
        "id": "OXnUj9zfXBKK",
        "outputId": "d137e47c-9440-4853-add9-cd65e0bbb8d9"
      },
      "source": [
        "def fdx3(x):\n",
        "    # print(x)\n",
        "    i = 1\n",
        "    totalsum = 0\n",
        "    while i <= m:\n",
        "        totalexp = 0\n",
        "        j =1\n",
        "        while(j <= n):\n",
        "          aux = a[i-1][j-1]*x[j-1] + b[i-1]\n",
        "          totalexp = totalexp + aux\n",
        "          j = j+1\n",
        "        aux2 = math.exp(totalexp)*a.item(i-1,0)\n",
        "        #print(aux2)\n",
        "        totalsum = totalsum + aux2\n",
        "        # print(totalsum)\n",
        "        i = i + 1\n",
        "    \n",
        "    i = 1\n",
        "    totalsum2 = 0\n",
        "    while i <= m:\n",
        "        totalexp = 0\n",
        "        j =1\n",
        "        while(j <= n):\n",
        "          aux = a[i-1][j-1]*x[j-1] + b[i-1]\n",
        "          totalexp = totalexp + aux\n",
        "          j = j +1\n",
        "        aux2 = math.exp(totalexp)*a.item(i-1,1)\n",
        "        #print(aux2)\n",
        "\n",
        "        totalsum2 = totalsum2 + aux2\n",
        "        # print(totalsum)\n",
        "        i = i + 1\n",
        "      \n",
        "    i = 1\n",
        "    totalsum3 = 0\n",
        "    while i <= m:\n",
        "        totalexp = 0\n",
        "        j =1\n",
        "        while(j <= n):\n",
        "          aux = a[i-1][j-1]*x[j-1] + b[i-1]\n",
        "          totalexp = totalexp + aux\n",
        "          j = j +1\n",
        "        aux2 = math.exp(totalexp)*a.item(i-1,2)\n",
        "        #print(aux2)\n",
        "\n",
        "        totalsum3 = totalsum3 + aux2\n",
        "        # print(totalsum)\n",
        "        i = i + 1\n",
        "\n",
        "    return np.array([(1/fsinLog(x))*totalsum, (1/fsinLog(x))*totalsum2, (1/fsinLog(x))*totalsum3])\n",
        "\n",
        "print(fdx3(x))"
      ],
      "execution_count": null,
      "outputs": [
        {
          "output_type": "stream",
          "name": "stdout",
          "text": [
            "[6.43725479 8.28719194 8.81614676]\n"
          ]
        }
      ]
    },
    {
      "cell_type": "code",
      "metadata": {
        "id": "C3E72ERQkIA6",
        "colab": {
          "base_uri": "https://localhost:8080/",
          "height": 208
        },
        "outputId": "3ff5d44a-e902-4d80-a3d2-69e7b0b5369e"
      },
      "source": [
        "\n",
        "def backtrack4(x0, f, fdx, t = 1, alpha = 0.2, beta = 0.3):\n",
        "    \n",
        "    point = x0 #Necessary to ensure matrix form\n",
        "    #print(point)\n",
        "    #while f(point - np.dot(t,fdx(point))) > f(point) + alpha * t * np.asscalar(np.dot(np.transpose(fdx(point)), -1*fdx(point))):\n",
        "    while f(point - np.dot(t,fdx(point))) > f(point) + alpha * t * (np.dot(np.transpose(fdx(point)), -1*fdx(point))):\n",
        "         t *= beta\n",
        "        #  print(t)\n",
        "    return t\n",
        "\n",
        "backtrack4(x, f, fdx3)"
      ],
      "execution_count": null,
      "outputs": [
        {
          "output_type": "error",
          "ename": "NameError",
          "evalue": "ignored",
          "traceback": [
            "\u001b[0;31m---------------------------------------------------------------------------\u001b[0m",
            "\u001b[0;31mNameError\u001b[0m                                 Traceback (most recent call last)",
            "\u001b[0;32m<ipython-input-43-2571728c2c7b>\u001b[0m in \u001b[0;36m<module>\u001b[0;34m()\u001b[0m\n\u001b[1;32m     10\u001b[0m     \u001b[0;32mreturn\u001b[0m \u001b[0mt\u001b[0m\u001b[0;34m\u001b[0m\u001b[0;34m\u001b[0m\u001b[0m\n\u001b[1;32m     11\u001b[0m \u001b[0;34m\u001b[0m\u001b[0m\n\u001b[0;32m---> 12\u001b[0;31m \u001b[0mbacktrack4\u001b[0m\u001b[0;34m(\u001b[0m\u001b[0mx\u001b[0m\u001b[0;34m,\u001b[0m \u001b[0mf\u001b[0m\u001b[0;34m,\u001b[0m \u001b[0mfdx3\u001b[0m\u001b[0;34m)\u001b[0m\u001b[0;34m\u001b[0m\u001b[0;34m\u001b[0m\u001b[0m\n\u001b[0m",
            "\u001b[0;31mNameError\u001b[0m: name 'fdx3' is not defined"
          ]
        }
      ]
    },
    {
      "cell_type": "code",
      "metadata": {
        "colab": {
          "base_uri": "https://localhost:8080/"
        },
        "id": "4FX1sIsctRBJ",
        "outputId": "384f85b1-8439-4c41-d7d8-2e8b89b3ce18"
      },
      "source": [
        "backtrack4([0.1,0.5],f,fdx)"
      ],
      "execution_count": null,
      "outputs": [
        {
          "output_type": "execute_result",
          "data": {
            "text/plain": [
              "0.0984770902183612"
            ]
          },
          "metadata": {},
          "execution_count": 35
        }
      ]
    },
    {
      "cell_type": "code",
      "metadata": {
        "id": "JUsp861LkJeg",
        "colab": {
          "base_uri": "https://localhost:8080/"
        },
        "outputId": "e48f67de-ca3f-44ae-f4c3-2ae89cf04176"
      },
      "source": [
        "def grad(x0, max_iter):\n",
        "    iter = 1\n",
        "    \n",
        "    while (np.linalg.norm(np.array(fdx(x0))) > 0.0001):\n",
        "    #Find stepsize by backtracking\n",
        "        t = backtrack4(x0, f, fdx) #Step Size\n",
        "        x0 = x0 - np.dot(t, np.transpose(fdx(x0)))\n",
        "        #Calculate New Value of Function\n",
        "        print(x0, f(x0), fdx(x0),t, iter)\n",
        "        iter += 1\n",
        "        if iter > max_iter:\n",
        "            break\n",
        "    return x0, f(x0), iter\n",
        "\n",
        "grad(x, 50)"
      ],
      "execution_count": 131,
      "outputs": [
        {
          "output_type": "stream",
          "name": "stdout",
          "text": [
            "[0.5270026  0.25238539] 22.739167315092793 [4.35341343 4.15701025] 0.1 1\n",
            "[ 0.17437611 -0.08433244] 21.505863367986397 [ 2.14198791 -3.64259765] 0.08100000000000002 2\n",
            "[0.09139111 0.05678925] 21.197788566842572 [-0.93500991  0.46296579] 0.03874204890000002 3\n",
            "[0.12073271 0.0422609 ] 21.18368255479681 [ 0.07683033 -0.21220065] 0.03138105960900001 4\n",
            "[0.1180538  0.04965987] 21.182905800078807 [-0.07096607  0.00426387] 0.03486784401000002 5\n",
            "[0.12080318 0.04949468] 21.182820750190178 [ 0.00758051 -0.02702585] 0.03874204890000002 6\n",
            "[0.12050949 0.05054172] 21.182808477913564 [-0.01082892  0.00266879] 0.03874204890000002 7\n",
            "[0.12088707 0.05044866] 21.18280658305905 [ 0.00060911 -0.00339731] 0.03486784401000002 8\n",
            "[0.12086347 0.05058028] 21.182806381445896 [-0.00133098  0.00020422] 0.03874204890000002 9\n",
            "[0.12091504 0.05057237] 21.182806353031406 [ 0.00018334 -0.00050075] 0.03874204890000002 10\n",
            "[0.12090865 0.05058983] 21.182806348677403 [-1.64884581e-04  8.77106881e-06] 0.03486784401000002 11\n",
            "[0.12091503 0.05058949] 21.18280634821242 [ 1.64634379e-05 -6.21498462e-05] 0.03874204890000002 12\n"
          ]
        },
        {
          "output_type": "execute_result",
          "data": {
            "text/plain": [
              "(array([0.12091503, 0.05058949]), 21.18280634821242, 13)"
            ]
          },
          "metadata": {},
          "execution_count": 131
        }
      ]
    },
    {
      "cell_type": "code",
      "metadata": {
        "id": "6slw8hTCmI8A"
      },
      "source": [
        "x00= np.arange(-1, 1, 0.01)\n",
        "#print(x0)\n",
        "y=[]\n",
        "for i in x00:\n",
        "    y.append(f([-0.019501,i]))\n",
        "    #print(f([0.1,i]))"
      ],
      "execution_count": null,
      "outputs": []
    },
    {
      "cell_type": "code",
      "metadata": {
        "id": "AFD1mmL3mPbd",
        "colab": {
          "base_uri": "https://localhost:8080/",
          "height": 548
        },
        "outputId": "540b2a87-20dd-4722-acc8-56e0451a6682"
      },
      "source": [
        "import matplotlib.pyplot as plt\n",
        "\n",
        "plt.figure(figsize=(14,8))\n",
        "plt.plot(x00,y,'')\n",
        "plt.ylabel('f(x)')\n",
        "plt.xlabel('x')\n",
        "#plt.axis([0, 2450, 0, 45])\n",
        "plt.grid(True)\n",
        "plt.title('f(x)')\n",
        "# [xmin, xmax, ymin, ymax] \n",
        "plt.show()\n",
        "print(\"por evaluaciónes: \"+str(min(y)))\n",
        "print(\"por optimización: \"+str(f([-0.019501 , -0.0005068])))"
      ],
      "execution_count": null,
      "outputs": [
        {
          "output_type": "display_data",
          "data": {
            "image/png": "[encoded data removed]",
            "text/plain": [
              "<Figure size 1008x576 with 1 Axes>"
            ]
          },
          "metadata": {
            "needs_background": "light"
          }
        },
        {
          "output_type": "stream",
          "name": "stdout",
          "text": [
            "por evaluaciónes: 21.421389752882714\n",
            "por optimización: 21.428671943101907\n"
          ]
        }
      ]
    },
    {
      "cell_type": "code",
      "metadata": {
        "id": "gM4URl98FUN8"
      },
      "source": [
        "def Hessian(x0,fdx): #punto y derivada\n",
        "  dt=0.000001\n",
        "  dxdx=( fdx( [ x0[0]+dt , x0[1] ] )[0] - fdx(x0)[0] ) / dt\n",
        "  dxdy=( fdx( [ x0[0]+dt , x0[1] ] )[1] - fdx(x0)[1] ) / dt\n",
        "  dydx=( fdx( [ x0[0] , x0[1]+dt ] )[0] - fdx(x0)[0] ) / dt\n",
        "  dydy=( fdx( [ x0[0] , x0[1]+dt ] )[1] - fdx(x0)[1] ) / dt\n",
        "  return[[dxdx,dxdy],[dydx,dydy]]"
      ],
      "execution_count": null,
      "outputs": []
    },
    {
      "cell_type": "code",
      "metadata": {
        "id": "htfAwQ9lcNo1"
      },
      "source": [
        " def backtrack5(x0, f, fdx, t = 1, alpha = 0.2, beta = 0.25):\n",
        "    \n",
        "    point = x0 #Necessary to ensure matrix form\n",
        "    #print(point)\n",
        "    #while f(point - np.dot(t,fdx(point))) > f(point) + alpha * t * np.asscalar(np.dot(np.transpose(fdx(point)), -1*fdx(point))):\n",
        "    while f(point - np.dot(t,-fdx)) > f(point) + alpha * t * (np.dot(np.transpose(-fdx), 1*fdx)):\n",
        "      t *= beta\n",
        "      #print(f(point - np.dot(t,fdx)))\n",
        "    return t"
      ],
      "execution_count": 142,
      "outputs": []
    },
    {
      "cell_type": "code",
      "metadata": {
        "colab": {
          "base_uri": "https://localhost:8080/"
        },
        "id": "xSXy58VMMDjv",
        "outputId": "88ce6ce4-f2a5-418c-9a50-bec614919af7"
      },
      "source": [
        "import numpy.linalg as npla\n",
        "##################################################\n",
        "x=[1,1]  #Método de newton siempre parte de [1,1]\n",
        "######################################################\n",
        "\n",
        "def lambda_sq(fdx, Hessian, point):\n",
        "    lambda_sq1 = np.dot(fdx(point).T, np.dot(npla.pinv( Hessian(point,fdx) ) , fdx(point)  )) \n",
        "    return lambda_sq1.item() \n",
        "     \n",
        "def delta_x(fdx, Hessian, point):\n",
        "    delta_x =- np.dot(npla.pinv(Hessian(point,fdx)) , fdx(point))\n",
        "    return np.array(delta_x)\n",
        "\n",
        "#eps is the tolerance condition to exit out of the while loop\n",
        "def newtons_method(x, eps=0.0001, max_iters=20):\n",
        "    iters = 1\n",
        "    lmb_sq = lambda_sq(fdx, Hessian, x)\n",
        "    #In while loop we are checking the magnitude of Newton's decrement. If it's below tolerance we exit out.\n",
        "    #t=0.0001\n",
        "    print(x, f(x), fdx(x), 0, iters)\n",
        "    while(( ((lmb_sq))**2/2.0) > eps):\n",
        "        dlt_x = delta_x(fdx, Hessian, x) # paso\n",
        "        lmb_sq = lambda_sq(fdx, Hessian, x)  #decremento\n",
        "        #print(fdx(x))\n",
        "        #print(dlt_x)\n",
        "        #Line search for stepsize\n",
        "        #t = backtrack4(x, f, fdx, 0.2, 0.25)\n",
        "        #t=0.05\n",
        "        t =backtrack5(x, f, dlt_x)\n",
        "        #print(t)\n",
        "        # Update x\n",
        "        #t = backtrack4(x, f, fdx) #0.2 0.25\n",
        "        #print(t)\n",
        "        #print(np.array((x + np.dot(t , dlt_x))))\n",
        "        #t=0.05\n",
        "        #if(iters<3):\n",
        "        #  t=0.05  #primer paso pequeño para no saltar tanto\n",
        "        x = np.array((x + np.dot(t , dlt_x)))\n",
        "\n",
        "        #t = backtrack4(x, f, fdx, 0.2, 0.25)\n",
        "        #print(t,x)\n",
        "        # Update lmb_sq, see if we still stay in the loop\n",
        "        #print(dlt_x, fdx(x))\n",
        "        #print(lmb_sq) \n",
        "        print(x, f(x), fdx(x), t, iters)\n",
        "        iters = 1 + iters  \n",
        "        if(iters > max_iters):\n",
        "            break\n",
        "    return x, f(x), iters\n",
        "#Test\n",
        "newtons_method(x)"
      ],
      "execution_count": 143,
      "outputs": [
        {
          "output_type": "stream",
          "name": "stdout",
          "text": [
            "[1, 1] 29.960085514808522 [4.72997401 7.47614614] 0 1\n",
            "[-0.03901127 -0.0641602 ] 21.496480164121323 [-3.26245112 -0.58957927] 0.0625 1\n",
            "[0.1598658  0.09992632] 21.217902182327215 [0.64853364 0.93869747] 1 2\n",
            "[0.12298899 0.05305285] 21.182894343496088 [0.03393473 0.04300704] 1 3\n",
            "[0.12092232 0.05060116] 21.182806349262545 [0.0001059  0.00016575] 1 4\n"
          ]
        },
        {
          "output_type": "execute_result",
          "data": {
            "text/plain": [
              "(array([0.12092232, 0.05060116]), 21.182806349262545, 5)"
            ]
          },
          "metadata": {},
          "execution_count": 143
        }
      ]
    },
    {
      "cell_type": "code",
      "metadata": {
        "colab": {
          "base_uri": "https://localhost:8080/"
        },
        "id": "uO-fnPjrpqJw",
        "outputId": "846eeb67-e443-43e0-98f2-89e420178ec4"
      },
      "source": [
        "xx=[2,2]\n",
        "lambda_sq(fdx, Hessian, xx)\n",
        "dlt_x = delta_x(fdx, Hessian, xx)\n",
        "print(dlt_x)\n",
        "print(xx + dlt_x)\n",
        "t=2\n",
        "np.array((xx + np.dot(t , dlt_x)))\n",
        "print(np.array((xx + np.dot(t , dlt_x))))"
      ],
      "execution_count": null,
      "outputs": [
        {
          "output_type": "stream",
          "name": "stdout",
          "text": [
            "[-132.25525835 -248.37750716]\n",
            "[-130.25525835 -246.37750716]\n",
            "[-262.5105167  -494.75501432]\n"
          ]
        }
      ]
    },
    {
      "cell_type": "code",
      "metadata": {
        "colab": {
          "base_uri": "https://localhost:8080/",
          "height": 38
        },
        "id": "nwwHpH4ZTnRL",
        "outputId": "58d886d9-b158-4462-e935-f4bea77f4a8c"
      },
      "source": [
        "Hessian([1,1],fdx)"
      ],
      "execution_count": null,
      "outputs": [
        {
          "output_type": "execute_result",
          "data": {
            "image/png": "[encoded data removed]",
            "text/latex": "$\\displaystyle \\left[ \\left[ 0.0273904632308586, \\  -0.0361546570459836\\right], \\  \\left[ -0.036154581550818, \\  0.150176591162676\\right]\\right]$",
            "text/plain": [
              "[[0.027390463230858586, -0.03615465704598364], [-0.036154581550817966, 0.15017\n",
              "659116267623]]"
            ]
          },
          "metadata": {},
          "execution_count": 151
        }
      ]
    },
    {
      "cell_type": "code",
      "metadata": {
        "colab": {
          "base_uri": "https://localhost:8080/"
        },
        "id": "I8J2gVHfG3PG",
        "outputId": "9bedbb8e-86a2-47e3-863e-f30ea962ccf2"
      },
      "source": [
        "newtons_method([1,1])"
      ],
      "execution_count": null,
      "outputs": [
        {
          "output_type": "execute_result",
          "data": {
            "text/plain": [
              "(array([0.56718975, 0.62481681]), 25.313336066132692, 4)"
            ]
          },
          "metadata": {},
          "execution_count": 200
        }
      ]
    },
    {
      "cell_type": "code",
      "metadata": {
        "id": "pUF9NDfmI3X-"
      },
      "source": [
        ""
      ],
      "execution_count": null,
      "outputs": []
    }
  ]
}