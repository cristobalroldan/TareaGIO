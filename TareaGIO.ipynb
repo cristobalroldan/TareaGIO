{
  "nbformat": 4,
  "nbformat_minor": 0,
  "metadata": {
    "colab": {
      "name": "TareaGIO.ipynb",
      "provenance": [],
      "collapsed_sections": [],
      "include_colab_link": true
    },
    "kernelspec": {
      "name": "python3",
      "display_name": "Python 3"
    },
    "language_info": {
      "name": "python"
    }
  },
  "cells": [
    {
      "cell_type": "markdown",
      "metadata": {
        "id": "view-in-github",
        "colab_type": "text"
      },
      "source": [
        "<a href=\"https://colab.research.google.com/github/cristobalroldan/TareaGIO/blob/main/TareaGIO.ipynb\" target=\"_parent\"><img src=\"https://colab.research.google.com/assets/colab-badge.svg\" alt=\"Open In Colab\"/></a>"
      ]
    },
    {
      "cell_type": "code",
      "metadata": {
        "id": "0wg329tGj5TT",
        "colab": {
          "base_uri": "https://localhost:8080/"
        },
        "outputId": "f7c8b1cc-5a3d-42c2-cbb8-180a452c25d3"
      },
      "source": [
        "import numpy as np \n",
        "import math\n",
        "\n",
        "m = 100\n",
        "n = 2\n",
        "a = np.random.uniform(-10,10, size=(m,n))\n",
        "np.around(a,2,a)\n",
        "b = np.random.uniform(-10,10, m)\n",
        "np.around(b,2,b)"
      ],
      "execution_count": 311,
      "outputs": [
        {
          "output_type": "execute_result",
          "data": {
            "text/plain": [
              "array([ 9.01, -1.47,  2.36, -5.2 , -6.74,  7.75,  9.95,  3.14,  6.4 ,\n",
              "       -8.4 ,  2.92,  3.97, -7.92,  9.95,  6.6 ,  7.77,  9.15,  4.72,\n",
              "        1.1 , -8.06, -4.62,  0.38, -8.08, -9.23, -6.07, -7.19, -1.06,\n",
              "       -6.05, -4.5 , -1.95, -2.28, -2.55, -9.53,  4.12, -4.68,  2.56,\n",
              "       -1.68,  9.91, -9.47,  1.74,  5.38,  6.1 , -5.02,  4.74, -2.43,\n",
              "       -5.18,  9.85, -5.37,  2.34,  8.58,  5.77, -3.63, -5.74,  9.9 ,\n",
              "       -8.55,  3.37, -3.32, -0.79,  3.87, -8.29,  8.48, -3.63,  3.24,\n",
              "       -1.79, -1.82,  6.98,  5.03,  6.33, -9.02, -0.34, -6.75,  4.51,\n",
              "       -3.16,  8.55,  5.85,  7.3 , -6.86, -2.55,  4.86, -1.74,  1.97,\n",
              "        5.86,  5.14, -0.45,  0.31, -0.14,  1.01,  1.43, -9.73, -7.88,\n",
              "       -9.79,  8.45, -0.75, -5.32, -5.95, -0.21, -6.41, -5.79,  8.93,\n",
              "        1.65])"
            ]
          },
          "metadata": {},
          "execution_count": 311
        }
      ]
    },
    {
      "cell_type": "code",
      "metadata": {
        "id": "FKtv6G2Dj-41",
        "colab": {
          "base_uri": "https://localhost:8080/"
        },
        "outputId": "9504b275-f1f0-4413-eb2d-8e7fc27fe04a"
      },
      "source": [
        "x = np.random.randint(1,20, n)\n",
        "print(x)"
      ],
      "execution_count": 302,
      "outputs": [
        {
          "output_type": "stream",
          "name": "stdout",
          "text": [
            "[15 13]\n"
          ]
        }
      ]
    },
    {
      "cell_type": "code",
      "metadata": {
        "id": "hDtjX52jkAap",
        "colab": {
          "base_uri": "https://localhost:8080/",
          "height": 38
        },
        "outputId": "c0c3dc3f-c046-4303-f093-56742b557e0d"
      },
      "source": [
        "def f(x): \n",
        "    i = 1\n",
        "    totalsum = 0\n",
        "    while i <= m:\n",
        "        totalexp = 0\n",
        "        j = 1\n",
        "        while j <= n:\n",
        "            aux = ((a[i-1][j-1])*x[j-1]) + b[i-1]\n",
        "            totalexp = totalexp + aux\n",
        "            j = j + 1\n",
        "        aux2 = math.exp(totalexp)\n",
        "        #print(aux)\n",
        "        totalsum = totalsum + aux2\n",
        "        #print(totalsum)\n",
        "        i = i + 1\n",
        "    return np.log(totalsum)\n",
        "f(x)\n"
      ],
      "execution_count": 312,
      "outputs": [
        {
          "output_type": "execute_result",
          "data": {
            "image/png": "[encoded data removed]",
            "text/latex": "$\\displaystyle 245.800038689474$",
            "text/plain": [
              "245.8000386894742"
            ]
          },
          "metadata": {},
          "execution_count": 312
        }
      ]
    },
    {
      "cell_type": "code",
      "metadata": {
        "id": "ghskbnenkDrH",
        "colab": {
          "base_uri": "https://localhost:8080/",
          "height": 38
        },
        "outputId": "131c1236-0301-4b66-c934-240292e0dad5"
      },
      "source": [
        "def fsinLog(x): \n",
        "    i = 1\n",
        "    totalsum = 0\n",
        "    while i <= m:\n",
        "        totalexp = 0\n",
        "        j = 1\n",
        "        while j <= n:\n",
        "            aux = ((a[i-1][j-1])*x[j-1]) + b[i-1]\n",
        "            totalexp = totalexp + aux\n",
        "            j = j + 1\n",
        "        aux2 = math.exp(totalexp)\n",
        "        #print(aux)\n",
        "        totalsum = totalsum + aux2\n",
        "        #print(totalsum)\n",
        "        i = i + 1\n",
        "    return totalsum\n",
        "fsinLog(x)"
      ],
      "execution_count": 313,
      "outputs": [
        {
          "output_type": "execute_result",
          "data": {
            "image/png": "[encoded data removed]",
            "text/latex": "$\\displaystyle 5.61824216025117 \\cdot 10^{106}$",
            "text/plain": [
              "5.618242160251175e+106"
            ]
          },
          "metadata": {},
          "execution_count": 313
        }
      ]
    },
    {
      "cell_type": "code",
      "metadata": {
        "id": "CoV4lei2kGJa",
        "colab": {
          "base_uri": "https://localhost:8080/"
        },
        "outputId": "493c848c-9116-4d60-d03f-7d3f7dfd05f1"
      },
      "source": [
        "def fdx(x):\n",
        "    # print(x)\n",
        "    i = 1\n",
        "    totalsum = 0\n",
        "    while i <= m:\n",
        "        totalexp = 0\n",
        "        j =1\n",
        "        while(j <= n):\n",
        "          aux = a[i-1][j-1]*x[j-1] + b[i-1]\n",
        "          totalexp = totalexp + aux\n",
        "          j = j+1\n",
        "        aux2 = math.exp(totalexp)*a.item(i-1,0)\n",
        "        #print(aux2)\n",
        "        totalsum = totalsum + aux2\n",
        "        # print(totalsum)\n",
        "        i = i + 1\n",
        "    \n",
        "    i = 1\n",
        "    totalsum2 = 0\n",
        "    while i <= m:\n",
        "        totalexp = 0\n",
        "        j =1\n",
        "        while(j <= n):\n",
        "          aux = a[i-1][j-1]*x[j-1] + b[i-1]\n",
        "          totalexp = totalexp + aux\n",
        "          j = j +1\n",
        "        aux2 = math.exp(totalexp)*a.item(i-1,1)\n",
        "        #print(aux2)\n",
        "\n",
        "        totalsum2 = totalsum2 + aux2\n",
        "        # print(totalsum)\n",
        "        i = i + 1\n",
        "\n",
        "    return np.array([(1/fsinLog(x))*totalsum, (1/fsinLog(x))*totalsum2])\n",
        "\n",
        "print(fdx(x))"
      ],
      "execution_count": 314,
      "outputs": [
        {
          "output_type": "stream",
          "name": "stdout",
          "text": [
            "[7.17003057 9.65000425]\n"
          ]
        }
      ]
    },
    {
      "cell_type": "code",
      "metadata": {
        "id": "C3E72ERQkIA6",
        "colab": {
          "base_uri": "https://localhost:8080/",
          "height": 38
        },
        "outputId": "e12800e6-74d7-469f-ee0d-a901e89d1c77"
      },
      "source": [
        "def backtrack4(x0, f, fdx, t = 1, alpha = 0.4, beta = 0.9):\n",
        "    \n",
        "    point = x0 #Necessary to ensure matrix form\n",
        "    #print(point)\n",
        "    #while f(point - np.dot(t,fdx(point))) > f(point) + alpha * t * np.asscalar(np.dot(np.transpose(fdx(point)), -1*fdx(point))):\n",
        "    while f(point - np.dot(t,fdx(point))) > f(point) + alpha * t * (np.dot(np.transpose(fdx(point)), -1*fdx(point))):\n",
        "         t *= beta\n",
        "        #  print(t)\n",
        "    return t\n",
        "\n",
        "backtrack4(x, f, fdx)"
      ],
      "execution_count": 315,
      "outputs": [
        {
          "output_type": "execute_result",
          "data": {
            "image/png": "[encoded data removed]",
            "text/latex": "$\\displaystyle 1$",
            "text/plain": [
              "1"
            ]
          },
          "metadata": {},
          "execution_count": 315
        }
      ]
    },
    {
      "cell_type": "code",
      "metadata": {
        "colab": {
          "base_uri": "https://localhost:8080/",
          "height": 38
        },
        "id": "4FX1sIsctRBJ",
        "outputId": "10957d27-4c57-43ed-9117-a58abdc6dbaa"
      },
      "source": [
        "backtrack4([0.1,0.5],f,fdx)"
      ],
      "execution_count": 245,
      "outputs": [
        {
          "output_type": "execute_result",
          "data": {
            "image/png": "[encoded data removed]",
            "text/latex": "$\\displaystyle 0.0250315550499324$",
            "text/plain": [
              "0.025031555049932444"
            ]
          },
          "metadata": {},
          "execution_count": 245
        }
      ]
    },
    {
      "cell_type": "code",
      "metadata": {
        "colab": {
          "base_uri": "https://localhost:8080/",
          "height": 38
        },
        "id": "Tu1yKnGX7CDO",
        "outputId": "162ed5d4-1840-4c15-e4a6-9f3cd130975a"
      },
      "source": [
        "def backtrack5(x0, f, deltax, t = 1, alpha = 0.4, beta = 0.9):\n",
        "    \n",
        "    point = x0 #Necessary to ensure matrix form\n",
        "    #print(point)\n",
        "    #while f(point - np.dot(t,fdx(point))) > f(point) + alpha * t * np.asscalar(np.dot(np.transpose(fdx(point)), -1*fdx(point))):\n",
        "    while f(point - np.dot(t,deltax)) > f(point) + alpha * t * (np.dot(np.transpose(deltax), -1*deltax)):\n",
        "         t = t*beta\n",
        "        #  print(t)\n",
        "    return t\n",
        "\n",
        "backtrack5(x, f,np.array([5,1]))"
      ],
      "execution_count": 349,
      "outputs": [
        {
          "output_type": "execute_result",
          "data": {
            "image/png": "[encoded data removed]",
            "text/latex": "$\\displaystyle 0.31381059609$",
            "text/plain": [
              "0.31381059609000017"
            ]
          },
          "metadata": {},
          "execution_count": 349
        }
      ]
    },
    {
      "cell_type": "code",
      "metadata": {
        "id": "JUsp861LkJeg",
        "colab": {
          "base_uri": "https://localhost:8080/"
        },
        "outputId": "8b0468e4-635f-4e29-84fc-c8be397e5781"
      },
      "source": [
        "def grad(x0, max_iter):\n",
        "    iter = 1\n",
        "    \n",
        "    while (np.linalg.norm(np.array(fdx(x0))) > 0.0001):\n",
        "    #Find stepsize by backtracking\n",
        "        t = backtrack4(x0, f, fdx) #Step Size\n",
        "        x0 = x0 - np.dot(t, np.transpose(fdx(x0)))\n",
        "        #Calculate New Value of Function\n",
        "        print(x0, f(x0), fdx(x0), iter)\n",
        "        iter += 1\n",
        "        if iter > max_iter:\n",
        "            break\n",
        "    return x0, f(x0), iter\n",
        "\n",
        "grad(x, 50)"
      ],
      "execution_count": 317,
      "outputs": [
        {
          "output_type": "stream",
          "name": "stdout",
          "text": [
            "[7.82996943 3.34999575] 101.27592025648157 [7.169335   9.63134678] 1\n",
            "[ 3.12616873 -2.96913087] 59.30898536904638 [ 9.00693298 -6.59316573] 2\n",
            "[-1.18181939  0.18435986] 29.234393456605435 [-8.55291116  5.26226857] 3\n",
            "[-0.49958409 -0.23539259] 25.93697496029752 [-7.38211644 -8.98283254] 4\n",
            "[-0.07031596  0.28695676] 22.34578239913927 [-0.24817618  5.96400341] 5\n",
            "[-0.05979548  0.03413575] 21.644304321639947 [-2.10163649 -1.32722352] 6\n",
            "[0.00515172 0.07515114] 21.56025690876736 [-0.29889035  0.95200608] 7\n",
            "[0.02079407 0.02532813] 21.539312960925308 [-0.68855313 -0.39981535] 8\n",
            "[0.04443681 0.03905653] 21.5303102822159 [-0.05325081  0.34693982] 9\n",
            "[0.04694499 0.02271521] 21.52796429948985 [-0.23079143 -0.10174339] 10\n",
            "[0.05575016 0.02659693] 21.526953750605056 [-0.01387268  0.13316609] 11\n",
            "[0.05633823 0.02095187] 21.526612868889625 [-0.08034984 -0.02203483] 12\n",
            "[0.05974436 0.02188595] 21.52648232871274 [-0.00455543  0.05165877] 13\n",
            "[0.05993747 0.01969607] 21.52643165238034 [-0.03101421 -0.00848767] 14\n",
            "[0.0612522  0.02005588] 21.52641214523934 [-0.00179204  0.01985802] 15\n",
            "[0.06132816 0.01921407] 21.526404596795874 [-0.01193445 -0.00315896] 16\n",
            "[0.06183408 0.01934798] 21.526401685315676 [-0.00075556  0.0076071 ] 17\n",
            "[0.06186611 0.01902551] 21.526400560026158 [-0.0045873  -0.00115808] 18\n",
            "[0.06206057 0.0190746 ] 21.52640012559137 [-0.00032361  0.00291048] 19\n",
            "[0.06207581 0.01893752] 21.526399963230666 [-0.00192261 -0.0007914 ] 20\n",
            "[0.06214916 0.01896771] 21.52639989136273 [-0.00015422  0.00107611] 21\n",
            "[0.06215642 0.01891702] 21.526399867775375 [-0.00071537 -0.00027   ] 22\n",
            "[0.06218372 0.01892732] 21.526399857715372 [-7.02072226e-05  3.98190934e-04] 23\n",
            "[0.06218702 0.01890857] 21.526399854281603 [-2.66422285e-04 -9.13764049e-05] 24\n",
            "[0.06219832 0.01891244] 21.52639985291015 [-4.78942590e-06  1.74018797e-04] 25\n",
            "[0.06219852 0.01890506] 21.526399852381317 [-1.02228145e-04 -3.35881945e-05] 26\n",
            "[0.06220286 0.01890649] 21.526399852177377 [-2.6948923e-06  6.6463266e-05] 27\n"
          ]
        },
        {
          "output_type": "execute_result",
          "data": {
            "text/plain": [
              "(array([0.06220286, 0.01890649]), 21.526399852177377, 28)"
            ]
          },
          "metadata": {},
          "execution_count": 317
        }
      ]
    },
    {
      "cell_type": "code",
      "metadata": {
        "id": "6slw8hTCmI8A"
      },
      "source": [
        "x00= np.arange(-1, 1, 0.01)\n",
        "#print(x0)\n",
        "y=[]\n",
        "for i in x00:\n",
        "    y.append(f([-0.019501,i]))\n",
        "    #print(f([0.1,i]))"
      ],
      "execution_count": 318,
      "outputs": []
    },
    {
      "cell_type": "code",
      "metadata": {
        "id": "AFD1mmL3mPbd",
        "colab": {
          "base_uri": "https://localhost:8080/",
          "height": 548
        },
        "outputId": "131e6267-9d8b-48e9-edfa-55aac3190a86"
      },
      "source": [
        "import matplotlib.pyplot as plt\n",
        "\n",
        "plt.figure(figsize=(14,8))\n",
        "plt.plot(x00,y,'')\n",
        "plt.ylabel('f(x)')\n",
        "plt.xlabel('x')\n",
        "#plt.axis([0, 2450, 0, 45])\n",
        "plt.grid(True)\n",
        "plt.title('f(x)')\n",
        "# [xmin, xmax, ymin, ymax] \n",
        "plt.show()\n",
        "print(\"por evaluaciónes: \"+str(min(y)))\n",
        "print(\"por optimización: \"+str(f([-0.019501 , -0.0005068])))"
      ],
      "execution_count": 319,
      "outputs": [
        {
          "output_type": "display_data",
          "data": {
            "image/png": "[encoded data removed]",
            "text/plain": [
              "<Figure size 1008x576 with 1 Axes>"
            ]
          },
          "metadata": {
            "needs_background": "light"
          }
        },
        {
          "output_type": "stream",
          "name": "stdout",
          "text": [
            "por evaluaciónes: 21.56739505456929\n",
            "por optimización: 21.61922226986039\n"
          ]
        }
      ]
    },
    {
      "cell_type": "code",
      "metadata": {
        "id": "gM4URl98FUN8"
      },
      "source": [
        "def Hessian(x0,fdx): #punto y derivada\n",
        "  dt=0.0000000001\n",
        "  dxdx=( fdx( [ x0[0]+dt , x0[1] ] )[0] - fdx(x0)[0] ) / dt\n",
        "  dxdy=( fdx( [ x0[0]+dt , x0[1] ] )[1] - fdx(x0)[1] ) / dt\n",
        "  dydx=( fdx( [ x0[0] , x0[1]+dt ] )[0] - fdx(x0)[0] ) / dt\n",
        "  dydy=( fdx( [ x0[0] , x0[1]+dt ] )[1] - fdx(x0)[1] ) / dt\n",
        "  return[[dxdx,dxdy],[dydx,dydy]]"
      ],
      "execution_count": 320,
      "outputs": []
    },
    {
      "cell_type": "code",
      "metadata": {
        "colab": {
          "base_uri": "https://localhost:8080/"
        },
        "id": "xSXy58VMMDjv",
        "outputId": "16b8d66e-43e4-4f5b-975e-ecce2fc21e8d"
      },
      "source": [
        "import numpy.linalg as npla\n",
        "x=[1,1]\n",
        "\n",
        "def lambda_sq(fdx, Hessian, point):\n",
        "    lambda_sq1 = np.dot( np.dot( fdx(point) , npla.pinv( Hessian(point,fdx) ) ), fdx(point).T) \n",
        "    return lambda_sq1.item() \n",
        "     \n",
        "def delta_x(fdx, Hessian, point):\n",
        "    delta_x = np.dot(-npla.pinv(Hessian(point,fdx)) , fdx(point).T)\n",
        "    return delta_x\n",
        "\n",
        "#eps is the tolerance condition to exit out of the while loop\n",
        "def newtons_method(x, eps=0.0001, max_iters=50):\n",
        "    iters = 1\n",
        "    lmb_sq = lambda_sq(fdx, Hessian, x)\n",
        "    #In while loop we are checking the magnitude of Newton's decrement. If it's below tolerance we exit out.\n",
        "    while(( ((lmb_sq)**2)/2.0) > eps):\n",
        "        dlt_x = delta_x(fdx, Hessian, x) # Compute delta_x and lambda_sq\n",
        "        #print(fdx(x))\n",
        "        #print(dlt_x)\n",
        "        #Line search for stepsize\n",
        "        #t=0.08\n",
        "        t = backtrack4(x, f, fdx, 0.2, 0.25)\n",
        "        #t =backtrack5(x, f, dlt_x)\n",
        "        #print(t)\n",
        "        # Update x\n",
        "        x = np.array((x + np.dot(t , dlt_x)))\n",
        "        #print(x)\n",
        "        # Update lmb_sq, see if we still stay in the loop\n",
        "        lmb_sq = lambda_sq(fdx, Hessian, x)   \n",
        "        #print(lmb_sq) \n",
        "        iters = 1 + iters  \n",
        "        if(iters > max_iters):\n",
        "            break\n",
        "    return x, f(x), iters\n",
        "#Test\n",
        "newtons_method(x)"
      ],
      "execution_count": 368,
      "outputs": [
        {
          "output_type": "stream",
          "name": "stdout",
          "text": [
            "2.816305367540815\n",
            "2.208569846941394\n",
            "1.9911213278885758\n",
            "1.9397747097392153\n",
            "1.7640082959204335\n",
            "1.0227862520309603\n",
            "0.5442913945486493\n",
            "0.32974340531897856\n",
            "0.2105617218085241\n",
            "0.14581921981342172\n",
            "0.10295230806208557\n",
            "0.07370396500786988\n",
            "0.0551963391001712\n",
            "0.041593365121157806\n",
            "0.03149813365115713\n",
            "0.02394853488042279\n",
            "0.01826817676634052\n",
            "0.013973000772767984\n"
          ]
        },
        {
          "output_type": "execute_result",
          "data": {
            "text/plain": [
              "(array([ 0.09153003, -0.00668862]), 21.53314970778717, 19)"
            ]
          },
          "metadata": {},
          "execution_count": 368
        }
      ]
    },
    {
      "cell_type": "code",
      "metadata": {
        "colab": {
          "base_uri": "https://localhost:8080/"
        },
        "id": "uO-fnPjrpqJw",
        "outputId": "53fcdbd9-69a1-4e17-dea7-664b7d7a1724"
      },
      "source": [
        "xx=[2,2]\n",
        "lambda_sq(fdx, Hessian, xx)\n",
        "dlt_x = delta_x(fdx, Hessian, xx)\n",
        "print(dlt_x)\n",
        "print(xx + dlt_x)\n",
        "t=2\n",
        "np.array((xx + np.dot(t , dlt_x)))\n",
        "print(np.array((xx + np.dot(t , dlt_x))))"
      ],
      "execution_count": 190,
      "outputs": [
        {
          "output_type": "stream",
          "name": "stdout",
          "text": [
            "[ 1734.71185664 -5571.04940551]\n",
            "[ 1736.71185664 -5569.04940551]\n",
            "[  3471.42371329 -11140.09881102]\n"
          ]
        }
      ]
    },
    {
      "cell_type": "code",
      "metadata": {
        "colab": {
          "base_uri": "https://localhost:8080/",
          "height": 38
        },
        "id": "nwwHpH4ZTnRL",
        "outputId": "58d886d9-b158-4462-e935-f4bea77f4a8c"
      },
      "source": [
        "Hessian([1,1],fdx)"
      ],
      "execution_count": 151,
      "outputs": [
        {
          "output_type": "execute_result",
          "data": {
            "image/png": "[encoded data removed]",
            "text/latex": "$\\displaystyle \\left[ \\left[ 0.0273904632308586, \\  -0.0361546570459836\\right], \\  \\left[ -0.036154581550818, \\  0.150176591162676\\right]\\right]$",
            "text/plain": [
              "[[0.027390463230858586, -0.03615465704598364], [-0.036154581550817966, 0.15017\n",
              "659116267623]]"
            ]
          },
          "metadata": {},
          "execution_count": 151
        }
      ]
    },
    {
      "cell_type": "code",
      "metadata": {
        "colab": {
          "base_uri": "https://localhost:8080/"
        },
        "id": "I8J2gVHfG3PG",
        "outputId": "9bedbb8e-86a2-47e3-863e-f30ea962ccf2"
      },
      "source": [
        "newtons_method([1,1])"
      ],
      "execution_count": 200,
      "outputs": [
        {
          "output_type": "execute_result",
          "data": {
            "text/plain": [
              "(array([0.56718975, 0.62481681]), 25.313336066132692, 4)"
            ]
          },
          "metadata": {},
          "execution_count": 200
        }
      ]
    },
    {
      "cell_type": "code",
      "metadata": {
        "id": "pUF9NDfmI3X-"
      },
      "source": [
        ""
      ],
      "execution_count": null,
      "outputs": []
    }
  ]
}