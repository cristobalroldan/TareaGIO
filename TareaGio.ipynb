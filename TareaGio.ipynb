{
  "nbformat": 4,
  "nbformat_minor": 0,
  "metadata": {
    "colab": {
      "name": "TareaGio.ipynb",
      "provenance": [],
      "collapsed_sections": [],
      "include_colab_link": true
    },
    "kernelspec": {
      "name": "python3",
      "display_name": "Python 3"
    },
    "language_info": {
      "name": "python"
    }
  },
  "cells": [
    {
      "cell_type": "markdown",
      "metadata": {
        "id": "view-in-github",
        "colab_type": "text"
      },
      "source": [
        "<a href=\"https://colab.research.google.com/github/cristobalroldan/TareaGIO/blob/main/TareaGio.ipynb\" target=\"_parent\"><img src=\"https://colab.research.google.com/assets/colab-badge.svg\" alt=\"Open In Colab\"/></a>"
      ]
    },
    {
      "cell_type": "code",
      "metadata": {
        "colab": {
          "base_uri": "https://localhost:8080/"
        },
        "id": "wC2BtP47jYS7",
        "outputId": "c6d3c70b-db44-4c20-abb0-ce04ed44758e"
      },
      "source": [
        "import numpy as np \n",
        "import math\n",
        "\n",
        "m = 100\n",
        "n = 2\n",
        "a = np.random.uniform(-10,10, size=(m,n))\n",
        "np.around(a,2,a)\n",
        "b = np.random.uniform(-10,10, m)\n",
        "np.around(b,2,b)"
      ],
      "execution_count": 1,
      "outputs": [
        {
          "output_type": "execute_result",
          "data": {
            "text/plain": [
              "array([-0.03, -5.98,  5.7 ,  0.26, -2.41,  5.17,  6.99, -1.19, -1.37,\n",
              "        7.06,  0.16, -1.43, -6.4 ,  9.39, -0.38, -3.14,  5.98,  7.77,\n",
              "       -1.07,  0.61,  2.76, -3.07, -9.67, -3.73,  2.22,  9.64, -3.67,\n",
              "        8.35, -5.86,  6.04, -6.56,  3.24,  0.23, -9.39, -8.34, -9.51,\n",
              "       -5.91, -1.17, -3.18, -2.15, -9.61,  1.23, -7.96, -6.66, -2.  ,\n",
              "        4.91,  7.43,  4.76, -5.2 , -5.13, -2.92,  8.36,  0.51,  0.46,\n",
              "        4.21, -4.76, -4.61,  6.03, -5.84,  7.58,  5.36, -1.96,  5.2 ,\n",
              "       -4.39,  7.58,  1.55,  5.09,  0.14,  6.46,  3.63, -5.09, -9.84,\n",
              "       -6.33,  7.5 , -9.77,  4.27,  1.66, -7.75, -9.13,  4.47, -3.66,\n",
              "       -3.09, -5.44,  0.77, -8.99, -0.95, -9.67,  4.67, -7.57, -5.32,\n",
              "        4.38,  9.13,  4.12, -0.69, -0.94, -8.4 , -4.08,  2.88, -1.53,\n",
              "        3.04])"
            ]
          },
          "metadata": {},
          "execution_count": 1
        }
      ]
    },
    {
      "cell_type": "code",
      "metadata": {
        "colab": {
          "base_uri": "https://localhost:8080/"
        },
        "id": "BbT0yUyov0BV",
        "outputId": "99cbaa89-b97e-4e3b-eb57-9d6831cfc9c4"
      },
      "source": [
        "x = np.random.randint(1,5, n)\n",
        "print(x)"
      ],
      "execution_count": 11,
      "outputs": [
        {
          "output_type": "stream",
          "name": "stdout",
          "text": [
            "[3 3]\n"
          ]
        }
      ]
    },
    {
      "cell_type": "code",
      "metadata": {
        "id": "A_t-_7P1e7IO"
      },
      "source": [
        "\n",
        "def f(x): \n",
        "    i = 1\n",
        "    totalsum = 0\n",
        "    while i <= m:\n",
        "        totalexp = 0\n",
        "        j = 1\n",
        "        while j <= n:\n",
        "            aux = a[i-1][j-1]*x[j-1] + b[i-1]\n",
        "            totalexp = totalexp + aux\n",
        "            j = j + 1\n",
        "        aux2 = math.exp(totalexp)\n",
        "        totalsum = totalsum + aux2\n",
        "        # print(totalsum)\n",
        "        i = i + 1\n",
        "    return np.log(totalsum)\n"
      ],
      "execution_count": 12,
      "outputs": []
    },
    {
      "cell_type": "code",
      "metadata": {
        "id": "qwLfdC3Je_JC"
      },
      "source": [
        "def fsinLog(x): \n",
        "    i = 1\n",
        "    totalsum = 0\n",
        "    while i <= m:\n",
        "        totalexp = 0\n",
        "        j = 1\n",
        "        while j <= n:\n",
        "            aux = a[i-1][j-1]*x[j-1] + b[i-1]\n",
        "            totalexp = totalexp + aux\n",
        "            j = j + 1\n",
        "        aux2 = math.exp(totalexp)\n",
        "        totalsum = totalsum + aux2\n",
        "        # print(totalsum)\n",
        "        i = i + 1\n",
        "    return totalsum"
      ],
      "execution_count": 13,
      "outputs": []
    },
    {
      "cell_type": "code",
      "metadata": {
        "id": "STRlrJu-fBOG"
      },
      "source": [
        "def fdx(x):\n",
        "    i = 1\n",
        "    totalsum = 0\n",
        "    while i <= m:\n",
        "        totalexp = 0\n",
        "        j =1\n",
        "        while j <= n:\n",
        "            aux = a[i-1][j-1]*x[j-1] + b[i-1]\n",
        "            totalexp = totalexp + aux\n",
        "            aux2 = math.exp(totalexp)*a.item(i-1,j-1)\n",
        "            # print(a.item(i-1,j-1))\n",
        "            j = j +1\n",
        "\n",
        "        totalsum = totalsum + aux2\n",
        "        # print(totalsum)\n",
        "        i = i + 1\n",
        "    \n",
        "    return (1/fsinLog(x))*totalsum\n",
        "\n",
        "# fdx(x)"
      ],
      "execution_count": 14,
      "outputs": []
    },
    {
      "cell_type": "code",
      "metadata": {
        "id": "zp21ZOtgfDx4"
      },
      "source": [
        "def backtrack4(x0, f, fdx, t = 1, alpha = 0.4, beta = 0.9):\n",
        "    \n",
        "    point = x0 #Necessary to ensure matrix form\n",
        "    # print(point)\n",
        "    while f(point - np.dot(t,fdx(point))) > f(point) + alpha * t * np.asscalar(np.dot(np.transpose(fdx(point)), -1*fdx(point))):\n",
        "         t *= beta\n",
        "        #  print(t)\n",
        "    return t\n",
        "\n",
        "# backtrack4(x, f, fdx)"
      ],
      "execution_count": 15,
      "outputs": []
    },
    {
      "cell_type": "code",
      "metadata": {
        "id": "HMwiXvUTm49q"
      },
      "source": [
        ""
      ],
      "execution_count": 15,
      "outputs": []
    },
    {
      "cell_type": "code",
      "metadata": {
        "id": "PpZ1dI5lfGoe"
      },
      "source": [
        "def grad(x0, max_iter):\n",
        "    iter = 1\n",
        "    \n",
        "    while (np.linalg.norm(np.array(fdx(x0))) > 0.000001):\n",
        "    #Find stepsize by backtracking\n",
        "        t = backtrack4(x0, f, fdx) #Step Size\n",
        "        x0 = x0 - np.dot(t, np.transpose(fdx(x0)))\n",
        "        #Calculate New Value of Function\n",
        "        print(x0, f(x0), fdx(x0), iter)\n",
        "        iter += 1\n",
        "        if iter > max_iter:\n",
        "            break\n",
        "    return x0, f(x0), iter"
      ],
      "execution_count": 16,
      "outputs": []
    },
    {
      "cell_type": "code",
      "metadata": {
        "colab": {
          "base_uri": "https://localhost:8080/"
        },
        "id": "f4qrnqZzfITX",
        "outputId": "aab04f65-dc7b-4c69-9c60-6a0733b33d91"
      },
      "source": [
        "grad(x, 50)"
      ],
      "execution_count": 17,
      "outputs": [
        {
          "output_type": "stream",
          "name": "stderr",
          "text": [
            "/usr/local/lib/python3.7/dist-packages/ipykernel_launcher.py:5: DeprecationWarning: np.asscalar(a) is deprecated since NumPy v1.16, use a.item() instead\n",
            "  \"\"\"\n"
          ]
        },
        {
          "output_type": "stream",
          "name": "stdout",
          "text": [
            "[-1.88395519 -1.88395519] 39.91843771199638 -9.23766269941881 1\n",
            "[0.46413472 0.46413472] 26.441694187719015 9.14243603300375 2\n",
            "[-0.43618578 -0.43618578] 22.41348777163762 -7.266901565477124 3\n",
            "[0.03333468 0.03333468] 20.376969022339676 6.662319246528188 4\n",
            "[-0.13343353 -0.13343353] 19.88041453216578 -2.45919042888912 5\n",
            "[-0.05743678 -0.05743678] 19.78366130253916 1.7894063358681376 6\n",
            "[-0.08682457 -0.08682457] 19.76069763496863 -0.06733381945846734 7\n",
            "[-0.07434748 -0.07434748] 19.76008664828075 0.7018253541383023 8\n",
            "[-0.07986043 -0.07986043] 19.758524599474832 0.3571713441221546 9\n",
            "[-0.07986043 -0.07986043] 19.758524599474832 0.3571713441214586 10\n",
            "[-0.07986043 -0.07986043] 19.758524599474832 0.3571713441207621 11\n",
            "[-0.07986043 -0.07986043] 19.758524599474832 0.35717134412005186 12\n",
            "[-0.07986043 -0.07986043] 19.758524599474832 0.3571713441193492 13\n",
            "[-0.07986043 -0.07986043] 19.758524599474832 0.3571713441186445 14\n",
            "[-0.07986043 -0.07986043] 19.75852459947483 0.3571713441164138 15\n",
            "[-0.07986043 -0.07986043] 19.75852459947483 0.35717134411590445 16\n",
            "[-0.07986043 -0.07986043] 19.75852459947483 0.35717134411544027 17\n",
            "[-0.07986043 -0.07986043] 19.75852459947483 0.35717134411492457 18\n",
            "[-0.07986043 -0.07986043] 19.75852459947483 0.3571713441142309 19\n",
            "[-0.07986043 -0.07986043] 19.75852459947483 0.3571713441135316 20\n",
            "[-0.07986043 -0.07986043] 19.75852459947483 0.3571713441128933 21\n",
            "[-0.07986043 -0.07986043] 19.75852459947483 0.3571713441121954 22\n",
            "[-0.07986043 -0.07986043] 19.75852459947483 0.35717134411149987 23\n",
            "[-0.07986043 -0.07986043] 19.75852459947483 0.35717134411079876 24\n",
            "[-0.07986043 -0.07986043] 19.75852459947483 0.3571713441100925 25\n",
            "[-0.07986043 -0.07986043] 19.75852459947483 0.3571713441093937 26\n",
            "[-0.07986043 -0.07986043] 19.75852459947483 0.3571713441086803 27\n",
            "[-0.07986043 -0.07986043] 19.75852459947483 0.35717134410798623 28\n",
            "[-0.07986043 -0.07986043] 19.758524599474825 0.357171344106358 29\n",
            "[-0.07986043 -0.07986043] 19.758524599474825 0.3571713441063583 30\n",
            "[-0.07986043 -0.07986043] 19.758524599474825 0.3571713441061065 31\n",
            "[-0.07986043 -0.07986043] 19.758524599474825 0.3571713441057674 32\n",
            "[-0.07986043 -0.07986043] 19.758524599474825 0.3571713441053124 33\n",
            "[-0.07986043 -0.07986043] 19.758524599474825 0.35717134410485124 34\n",
            "[-0.07986043 -0.07986043] 19.758524599474825 0.3571713441045775 35\n",
            "[-0.07986043 -0.07986043] 19.758524599474825 0.3571713441038803 36\n",
            "[-0.07986043 -0.07986043] 19.758524599474825 0.3571713441034142 37\n",
            "[-0.07986043 -0.07986043] 19.758524599474825 0.3571713441029509 38\n",
            "[-0.07986043 -0.07986043] 19.758524599474825 0.35717134410249535 39\n",
            "[-0.07986043 -0.07986043] 19.758524599474825 0.35717134410203605 40\n",
            "[-0.07986043 -0.07986043] 19.758524599474825 0.3571713441016225 41\n",
            "[-0.07986043 -0.07986043] 19.758524599474825 0.3571713441009188 42\n",
            "[-0.07986043 -0.07986043] 19.758524599474825 0.35717134410034357 43\n",
            "[-0.07986043 -0.07986043] 19.758524599474825 0.3571713440996542 44\n",
            "[-0.07986043 -0.07986043] 19.758524599474825 0.3571713440989515 45\n",
            "[-0.07986043 -0.07986043] 19.758524599474825 0.3571713440982466 46\n",
            "[-0.07986043 -0.07986043] 19.758524599474825 0.3571713440975474 47\n",
            "[-0.07986043 -0.07986043] 19.758524599474825 0.3571713440968437 48\n",
            "[-0.07986043 -0.07986043] 19.758524599474825 0.3571713440961381 49\n",
            "[-0.07986043 -0.07986043] 19.758524599474825 0.3571713440954426 50\n"
          ]
        },
        {
          "output_type": "execute_result",
          "data": {
            "text/plain": [
              "(array([-0.07986043, -0.07986043]), 19.758524599474825, 51)"
            ]
          },
          "metadata": {},
          "execution_count": 17
        }
      ]
    },
    {
      "cell_type": "markdown",
      "metadata": {
        "id": "n1oKvgrV1Xep"
      },
      "source": [
        "**GRÁFICAS**"
      ]
    },
    {
      "cell_type": "code",
      "metadata": {
        "id": "PfPXS6GUxeOW"
      },
      "source": [
        "x0= np.arange(-0.2, 0.2 , 0.0001)\n",
        "#print(x0)\n",
        "y=[]\n",
        "for i in x0:\n",
        "    y.append(f([0.01,i]))\n",
        "    #print(f([0.1,i]))\n",
        "   \n",
        " "
      ],
      "execution_count": 63,
      "outputs": []
    },
    {
      "cell_type": "code",
      "metadata": {
        "colab": {
          "base_uri": "https://localhost:8080/",
          "height": 530
        },
        "id": "p0pLQnxixiRu",
        "outputId": "8929d8ce-6377-43a9-ff8f-871f1eb1f672"
      },
      "source": [
        "import matplotlib.pyplot as plt\n",
        "\n",
        "plt.figure(figsize=(14,8))\n",
        "plt.plot(x0,y,'')\n",
        "plt.ylabel('f(x)')\n",
        "plt.xlabel('x')\n",
        "#plt.axis([0, 2450, 0, 45])\n",
        "plt.grid(True)\n",
        "plt.title('f(x)')\n",
        "# [xmin, xmax, ymin, ymax] \n",
        "plt.show()\n",
        "print(min(y))   "
      ],
      "execution_count": 64,
      "outputs": [
        {
          "output_type": "display_data",
          "data": {
            "image/png": "[encoded data removed]",
            "text/plain": [
              "<Figure size 1008x576 with 1 Axes>"
            ]
          },
          "metadata": {
            "needs_background": "light"
          }
        },
        {
          "output_type": "stream",
          "name": "stdout",
          "text": [
            "19.74352107841387\n"
          ]
        }
      ]
    },
    {
      "cell_type": "code",
      "metadata": {
        "id": "T9UfUstKzbTR"
      },
      "source": [
        ""
      ],
      "execution_count": 52,
      "outputs": []
    }
  ]
}