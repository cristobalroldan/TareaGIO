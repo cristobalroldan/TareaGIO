{
  "nbformat": 4,
  "nbformat_minor": 0,
  "metadata": {
    "colab": {
      "name": "TareaGIO.ipynb",
      "provenance": [],
      "collapsed_sections": [],
      "include_colab_link": true
    },
    "kernelspec": {
      "name": "python3",
      "display_name": "Python 3"
    },
    "language_info": {
      "name": "python"
    }
  },
  "cells": [
    {
      "cell_type": "markdown",
      "metadata": {
        "id": "view-in-github",
        "colab_type": "text"
      },
      "source": [
        "<a href=\"https://colab.research.google.com/github/cristobalroldan/TareaGIO/blob/main/TareaGIOparte1.ipynb\" target=\"_parent\"><img src=\"https://colab.research.google.com/assets/colab-badge.svg\" alt=\"Open In Colab\"/></a>"
      ]
    },
    {
      "cell_type": "code",
      "metadata": {
        "id": "0wg329tGj5TT",
        "colab": {
          "base_uri": "https://localhost:8080/"
        },
        "outputId": "4afc889c-b0f5-4e16-b573-5152c9dbb37a"
      },
      "source": [
        "import numpy as np \n",
        "import math\n",
        "\n",
        "m = 100\n",
        "n = 2\n",
        "a = np.random.uniform(-10,10, size=(m,n))\n",
        "np.around(a,2,a)\n",
        "b = np.random.uniform(-10,10, m)\n",
        "np.around(b,2,b)"
      ],
      "execution_count": null,
      "outputs": [
        {
          "output_type": "execute_result",
          "data": {
            "text/plain": [
              "array([-9.23,  6.38, -2.  ,  8.65, -9.34, -7.21, -7.71, -2.12,  2.99,\n",
              "       -8.92,  8.3 ,  8.72, -0.55,  9.55, -8.49,  3.91,  4.86, -5.03,\n",
              "        8.24,  7.07,  5.21,  1.51,  3.86, -6.58, -6.56, -8.29,  0.83,\n",
              "       -0.42, -5.93, -1.55,  0.57, -9.65,  2.76, -6.47, -2.17,  1.93,\n",
              "        1.81,  8.76, -7.91, -6.42,  6.44, -8.31, -2.71, -5.48, -1.5 ,\n",
              "        4.94,  6.53,  1.4 ,  0.5 , -1.36, -2.06, -3.15, -2.46, -9.56,\n",
              "        6.14,  8.54,  1.89, -9.89,  7.11,  9.92, -0.19, -4.59, -1.14,\n",
              "       -7.96,  6.68,  9.84,  4.49, -0.61, -5.14, -9.81,  1.78,  0.19,\n",
              "       -1.22,  4.88,  6.31, -7.34,  9.25,  7.93, -7.29,  4.85,  9.56,\n",
              "        4.33,  4.64, -7.95, -7.7 ,  1.63, -5.97,  4.17, -9.19,  5.52,\n",
              "       -3.02, -4.  ,  8.54, -6.13, -2.42, -3.37,  9.23, -0.6 ,  2.79,\n",
              "       -5.74])"
            ]
          },
          "metadata": {},
          "execution_count": 1
        }
      ]
    },
    {
      "cell_type": "code",
      "metadata": {
        "id": "FKtv6G2Dj-41",
        "colab": {
          "base_uri": "https://localhost:8080/"
        },
        "outputId": "583db55b-836a-4e7f-9eab-2cfb059f707c"
      },
      "source": [
        "x = np.random.randint(1,20, n)\n",
        "print(x)"
      ],
      "execution_count": null,
      "outputs": [
        {
          "output_type": "stream",
          "name": "stdout",
          "text": [
            "[16  4]\n"
          ]
        }
      ]
    },
    {
      "cell_type": "code",
      "metadata": {
        "id": "hDtjX52jkAap",
        "colab": {
          "base_uri": "https://localhost:8080/"
        },
        "outputId": "c13318f6-3bd2-4c46-e19f-bc915f32ce3f"
      },
      "source": [
        "def f(x): \n",
        "    i = 1\n",
        "    totalsum = 0\n",
        "    while i <= m:\n",
        "        totalexp = 0\n",
        "        j = 1\n",
        "        while j <= n:\n",
        "            aux = ((a[i-1][j-1])*x[j-1]) + b[i-1]\n",
        "            totalexp = totalexp + aux\n",
        "            j = j + 1\n",
        "        aux2 = math.exp(totalexp)\n",
        "        #print(aux)\n",
        "        totalsum = totalsum + aux2\n",
        "        #print(totalsum)\n",
        "        i = i + 1\n",
        "    return np.log(totalsum)\n",
        "f(x)\n"
      ],
      "execution_count": null,
      "outputs": [
        {
          "output_type": "execute_result",
          "data": {
            "text/plain": [
              "189.16"
            ]
          },
          "metadata": {},
          "execution_count": 3
        }
      ]
    },
    {
      "cell_type": "code",
      "metadata": {
        "id": "ghskbnenkDrH",
        "colab": {
          "base_uri": "https://localhost:8080/"
        },
        "outputId": "a42efabc-be46-47e9-d61a-9bebfca3e279"
      },
      "source": [
        "def fsinLog(x): \n",
        "    i = 1\n",
        "    totalsum = 0\n",
        "    while i <= m:\n",
        "        totalexp = 0\n",
        "        j = 1\n",
        "        while j <= n:\n",
        "            aux = ((a[i-1][j-1])*x[j-1]) + b[i-1]\n",
        "            totalexp = totalexp + aux\n",
        "            j = j + 1\n",
        "        aux2 = math.exp(totalexp)\n",
        "        #print(aux)\n",
        "        totalsum = totalsum + aux2\n",
        "        #print(totalsum)\n",
        "        i = i + 1\n",
        "    return totalsum\n",
        "fsinLog(x)"
      ],
      "execution_count": null,
      "outputs": [
        {
          "output_type": "execute_result",
          "data": {
            "text/plain": [
              "1.4162639375663535e+82"
            ]
          },
          "metadata": {},
          "execution_count": 4
        }
      ]
    },
    {
      "cell_type": "code",
      "metadata": {
        "id": "CoV4lei2kGJa",
        "colab": {
          "base_uri": "https://localhost:8080/"
        },
        "outputId": "d7983f13-288c-432c-812f-7b0b42ed8ed8"
      },
      "source": [
        "def fdx(x):\n",
        "    # print(x)\n",
        "    i = 1\n",
        "    totalsum = 0\n",
        "    while i <= m:\n",
        "        totalexp = 0\n",
        "        j =1\n",
        "        while(j <= n):\n",
        "          aux = a[i-1][j-1]*x[j-1] + b[i-1]\n",
        "          totalexp = totalexp + aux\n",
        "          j = j +1\n",
        "        aux2 = math.exp(totalexp)*a.item(i-1,0)\n",
        "        # print(a.item(i-1,j-1))\n",
        "        totalsum = totalsum + aux2\n",
        "        # print(totalsum)\n",
        "        i = i + 1\n",
        "    \n",
        "    i = 1\n",
        "    totalsum2 = 0\n",
        "    while i <= m:\n",
        "        totalexp = 0\n",
        "        j =1\n",
        "        while(j <= n):\n",
        "          aux = a[i-1][j-1]*x[j-1] + b[i-1]\n",
        "          totalexp = totalexp + aux\n",
        "          j = j +1\n",
        "        aux2 = math.exp(totalexp)*a.item(i-1,1)\n",
        "            # print(a.item(i-1,j-1))\n",
        "\n",
        "        totalsum2 = totalsum2 + aux2\n",
        "        # print(totalsum)\n",
        "        i = i + 1\n",
        "\n",
        "    return np.array([(1/fsinLog(x))*totalsum, (1/fsinLog(x))*totalsum2])\n",
        "\n",
        "fdx(x)"
      ],
      "execution_count": null,
      "outputs": [
        {
          "output_type": "execute_result",
          "data": {
            "text/plain": [
              "array([8.98, 9.05])"
            ]
          },
          "metadata": {},
          "execution_count": 5
        }
      ]
    },
    {
      "cell_type": "code",
      "metadata": {
        "id": "C3E72ERQkIA6",
        "colab": {
          "base_uri": "https://localhost:8080/"
        },
        "outputId": "387d5724-ee49-4599-b99e-27f62a2327ea"
      },
      "source": [
        "def backtrack4(x0, f, fdx, t = 1, alpha = 0.4, beta = 0.9):\n",
        "    \n",
        "    point = x0 #Necessary to ensure matrix form\n",
        "    print(point)\n",
        "    while f(point - np.dot(t,fdx(point))) > f(point) + alpha * t * np.asscalar(np.dot(np.transpose(fdx(point)), -1*fdx(point))):\n",
        "         t *= beta\n",
        "        #  print(t)\n",
        "    return t\n",
        "\n",
        "backtrack4(x, f, fdx)"
      ],
      "execution_count": null,
      "outputs": [
        {
          "output_type": "stream",
          "name": "stdout",
          "text": [
            "[16  4]\n"
          ]
        },
        {
          "output_type": "stream",
          "name": "stderr",
          "text": [
            "/usr/local/lib/python3.7/dist-packages/ipykernel_launcher.py:5: DeprecationWarning: np.asscalar(a) is deprecated since NumPy v1.16, use a.item() instead\n",
            "  \"\"\"\n"
          ]
        },
        {
          "output_type": "execute_result",
          "data": {
            "text/plain": [
              "1"
            ]
          },
          "metadata": {},
          "execution_count": 6
        }
      ]
    },
    {
      "cell_type": "code",
      "metadata": {
        "id": "JUsp861LkJeg",
        "colab": {
          "base_uri": "https://localhost:8080/"
        },
        "outputId": "fc953179-bde4-4893-d739-75c33ca693dc"
      },
      "source": [
        "def grad(x0, max_iter):\n",
        "    iter = 1\n",
        "    \n",
        "    while (np.linalg.norm(np.array(fdx(x0))) > 0.000000001):\n",
        "    #Find stepsize by backtracking\n",
        "        t = backtrack4(x0, f, fdx) #Step Size\n",
        "        x0 = x0 - np.dot(t, np.transpose(fdx(x0)))\n",
        "        #Calculate New Value of Function\n",
        "        print(x0, f(x0), fdx(x0), iter)\n",
        "        iter += 1\n",
        "        if iter > max_iter:\n",
        "            break\n",
        "    return x0, f(x0), iter\n",
        "\n",
        "grad(x, 20)"
      ],
      "execution_count": null,
      "outputs": [
        {
          "output_type": "stream",
          "name": "stdout",
          "text": [
            "[16  4]\n",
            "[ 7.02 -5.05] 115.10740764419035 [ 9.42609842 -7.64552224] 1\n",
            "[ 7.02 -5.05]\n",
            "[-2.40609842  2.59552224] 52.49056343046206 [-3.88133598  9.25885226] 2\n",
            "[-2.40609842  2.59552224]\n",
            "[-0.90238934 -0.99154683] 31.916146805439702 [-3.07694243 -9.28885614] 3\n",
            "[-0.90238934 -0.99154683]\n",
            "[-0.44055678  0.40266064] 24.661944452392422 [-3.74509667  8.83645636] 4\n",
            "[-0.44055678  0.40266064]\n"
          ]
        },
        {
          "output_type": "stream",
          "name": "stderr",
          "text": [
            "/usr/local/lib/python3.7/dist-packages/ipykernel_launcher.py:5: DeprecationWarning: np.asscalar(a) is deprecated since NumPy v1.16, use a.item() instead\n",
            "  \"\"\"\n"
          ]
        },
        {
          "output_type": "stream",
          "name": "stdout",
          "text": [
            "[-0.2227804  -0.11117697] 22.016853341073983 [-3.2555522  -6.41966744] 5\n",
            "[-0.2227804  -0.11117697]\n",
            "[-0.13223425  0.06737221] 21.35969328715424 [-1.47848732  2.92447609] 6\n",
            "[-0.13223425  0.06737221]\n",
            "[-0.09522541 -0.00583198] 21.23990260178172 [-1.4776864  -1.19199795] 7\n",
            "[-0.09522541 -0.00583198]\n",
            "[-0.05823662  0.02400559] 21.20091992941491 [-0.48674051  1.05303385] 8\n",
            "[-0.05823662  0.02400559]\n",
            "[-0.04605275 -0.00235349] 21.186520449489386 [-0.55240369 -0.44154947] 9\n",
            "[-0.04605275 -0.00235349]\n",
            "[-0.03360798  0.00759391] 21.18134367772819 [-0.18612115  0.3271556 ] 10\n",
            "[-0.03360798  0.00759391]\n",
            "[-0.02843142 -0.00150521] 21.179664608978538 [-0.1937506  -0.17390232] 11\n",
            "[-0.02843142 -0.00150521]\n",
            "[-0.02406653  0.00241253] 21.17901949166631 [-0.0565397   0.12357389] 12\n",
            "[-0.02406653  0.00241253]\n",
            "[-0.02265125 -0.00068072] 21.178819399756 [-0.0664548  -0.05045445] 13\n",
            "[-0.02265125 -0.00068072]\n",
            "[-0.02098779  0.00058224] 21.178749162647527 [-0.01666739  0.0487325 ] 14\n",
            "[-0.02098779  0.00058224]\n",
            "[-0.0206123  -0.00051563] 21.178722993507893 [-0.02281953 -0.01456421] 15\n",
            "[-0.0206123  -0.00051563]\n",
            "[-0.02004109 -0.00015107] 21.178714723561676 [-0.00655511  0.0152236 ] 16\n",
            "[-0.02004109 -0.00015107]\n",
            "[-0.019877   -0.00053214] 21.17871183146419 [-0.00800726 -0.00631486] 17\n",
            "[-0.019877   -0.00053214]\n",
            "[-0.01969661 -0.00038987] 21.178710771979457 [-0.00252441  0.0047746 ] 18\n",
            "[-0.01969661 -0.00038987]\n",
            "[-0.0196264  -0.00052267] 21.178710439644806 [-0.00276467 -0.00256575] 19\n",
            "[-0.0196264  -0.00052267]\n",
            "[-0.01956412 -0.00046486] 21.178710307735262 [-0.00076147  0.00180111] 20\n"
          ]
        },
        {
          "output_type": "execute_result",
          "data": {
            "text/plain": [
              "(array([-0.01956412, -0.00046486]), 21.178710307735262, 21)"
            ]
          },
          "metadata": {},
          "execution_count": 39
        }
      ]
    },
    {
      "cell_type": "code",
      "metadata": {
        "id": "6slw8hTCmI8A"
      },
      "source": [
        "x00= np.arange(-0.1, 0.1, 0.0001)\n",
        "#print(x0)\n",
        "y=[]\n",
        "for i in x00:\n",
        "    y.append(f([-0.019501,i]))\n",
        "    #print(f([0.1,i]))"
      ],
      "execution_count": null,
      "outputs": []
    },
    {
      "cell_type": "code",
      "metadata": {
        "id": "AFD1mmL3mPbd",
        "colab": {
          "base_uri": "https://localhost:8080/",
          "height": 548
        },
        "outputId": "62dfe93f-822e-4997-8524-7e980f4fa647"
      },
      "source": [
        "import matplotlib.pyplot as plt\n",
        "\n",
        "plt.figure(figsize=(14,8))\n",
        "plt.plot(x00,y,'')\n",
        "plt.ylabel('f(x)')\n",
        "plt.xlabel('x')\n",
        "#plt.axis([0, 2450, 0, 45])\n",
        "plt.grid(True)\n",
        "plt.title('f(x)')\n",
        "# [xmin, xmax, ymin, ymax] \n",
        "plt.show()\n",
        "print(\"por evaluaciónes: \"+str(min(y)))\n",
        "print(\"por optimización: \"+str(f([-0.019501 , -0.0005068])))"
      ],
      "execution_count": null,
      "outputs": [
        {
          "output_type": "display_data",
          "data": {
            "image/png": "[encoded data removed]",
            "text/plain": [
              "<Figure size 1008x576 with 1 Axes>"
            ]
          },
          "metadata": {
            "needs_background": "light"
          }
        },
        {
          "output_type": "stream",
          "name": "stdout",
          "text": [
            "por evaluaciónes: 21.178710247369832\n",
            "por optimización: 21.17871024593665\n"
          ]
        }
      ]
    },
    {
      "cell_type": "code",
      "metadata": {
        "id": "CnpewTl4njT5"
      },
      "source": [
        "def lambda_sq(fdx, Hessian, point):\n",
        "    lambda_sq = np.dot(np.dot(fdx(point) ,npla.pinv(Hessian(point))) , fdx(point).T)\n",
        "    \n",
        "     return(np.asscalar(lambda_sq))\n",
        "     \n",
        "def delta_x(fdx, Hessian, point):\n",
        "    delta_x = np.dot(-npla.pinv(Hessian(point)) , fdx(point).T)\n",
        "    return(delta_x)\n",
        "\n",
        "#eps is the tolerance condition to exit out of the while loop\n",
        "def newtons_method(x, eps=0.00001, max_iters=20000):\n",
        "    \n",
        "    iters = 1\n",
        "    lmb_sq = lambda_sq(fdx, Hessian, x)\n",
        "    #In while loop we are checking the magnitude of Newton's decrement. If it's below tolerance we exit out.\n",
        "    while((lmb_sq/2.0) > eps):\n",
        "        \n",
        "        # Compute delta_x and lambda_sq\n",
        "        dlt_x = delta_x(fdx, Hessian, x)\n",
        "        #Line search for stepsize\n",
        "        t = backtrack2(x, f, fdx)\n",
        "        # Update x\n",
        "        x = np.array((x + np.dot(t , dlt_x)))[0]\n",
        "       \n",
        "        # Update lmb_sq, see if we still stay in the loop\n",
        "        lmb_sq = lambda_sq(fdx, Hessian, x)\n",
        "        \n",
        "        iters += 1\n",
        "        \n",
        "        if(iters > max_iters):\n",
        "            break\n",
        "return(x, f(x), iters)\n",
        "#Test\n",
        "newtons_method([2.0,2.0])"
      ],
      "execution_count": null,
      "outputs": []
    }
  ]
}